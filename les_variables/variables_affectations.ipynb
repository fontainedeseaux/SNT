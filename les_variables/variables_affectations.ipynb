{
 "cells": [
  {
   "cell_type": "code",
   "execution_count": null,
   "metadata": {},
   "outputs": [],
   "source": [
    "from outils import* # Lancer la cellule pour importer les outils nécessaires au notebook."
   ]
  },
  {
   "cell_type": "markdown",
   "metadata": {},
   "source": [
    "# <div style = \"text-align : center;\"><span style=\"border: 2px solid;padding:6px;color:dodgerblue;\">PYTHON : les bases</span></div> #\n",
    "\n",
    "## <span style=\"text-decoration: underline;color:red;\">I. Découverte…</span> ##\n",
    "### <span style=\"text-decoration: underline;color:green;\">1. Un peu d’histoire… :</span> ###\n",
    "À la fin des années 1980, le programmeur <strong>Guido van Rossum</strong> participe au développement d’un langage de programmation nommé ABC.<br>\n",
    "![alt text](mes_images/guido.png \"Guido van Rossum\")<br>\n",
    "En 1989, il profite d'une semaine pendant les vacances de Noel pour écrire la première version d’un nouveau langage!<br>\n",
    "Fan de la série télévisée <span style=\"text-decoration: underline;\">Monty Python's Flying Circus</span>, il décide de baptiser ce projet <strong>Python</strong>.\n",
    "### <span style=\"text-decoration: underline;color:green;\">2. Pourquoi utiliser python?</span> ###\n",
    "C'est un langage utilisé dans le <strong>monde scientifique</strong> qui présente de nombreux avantages :\n",
    "- il est <strong>libre</strong> et <strong>gratuit</strong>\n",
    "\n",
    "- <strong>multiplateforme</strong>, c'est-à-dire que les programmes réalisés pourront s'exécuter sous Windows, Mac ou Linux\n",
    "\n",
    "- Il est <strong>simple</strong>, mais <strong>puissant</strong> et <strong>rapide</strong>.\n",
    "\n",
    "- Il possède de <strong>nombreuses bibliothèques</strong> très évoluées dans de multiples domaines, notamment dans l'<strong>intelligence artificielle</strong>.\n",
    "\n",
    "### <span style=\"text-decoration: underline;color:green;\">3. Installation de python :</span> ###\n",
    "● <span style=\"text-decoration: underline;\">En classe</span>, nous travaillerons sous format de <strong>jupyter notebook</strong>, pour profiter de l'alternance de cellules de texte et de code.<br>\n",
    "L'idéal est de télécharger et d'installer anaconda pour en profiter :<br>\n",
    "https://www.anaconda.com/products/individual<br>\n",
    "<br>\n",
    "● Une fois installé, il suffit d'écrire <i>jupyter notebook</i> dans la barre de recherche <i>Windows</i>.<br>\n",
    "Vous pourrez ensuite sélectionner et lancer le classeur (notebook) choisi en cliquant dessus :<br>\n",
    "![alt text](mes_images/lancer.png \"cliquer sur le nom pour lancer le notebook\")<br>\n",
    "<br>\n",
    "● Sinon, des <span style=\"text-decoration: underline;\">liens</span> seront fournis pour retravailler les notebooks en ligne, mais vous ne pourrez pas sauvegarder votre travail...\n",
    "## <span style=\"text-decoration: underline;color:red;\">II. Variables et affectation :</span> ##\n",
    "### <span style=\"text-decoration: underline;color:green;\">1. Notion de variable :</span> ###\n",
    "En python, lorsqu'on écrit  <span style=\"font-family:Courier New;font-size: 100%;\">annee&#95;naissance = 1980</span>, on effectue <strong>2 choses</strong> :\n",
    "- on crée d'abord une <strong>variable</strong> nommée <span style=\"font-family:Courier New;font-size: 100%;\">annee&#95;naissance</span>. C'est une sorte de \"boite\".\n",
    "\n",
    "- dans laquelle on \"range\" l'<strong>entier</strong> <span style=\"font-family:Courier New;font-size: 100%;\">1980</span>.\n",
    "\n",
    "On dit qu'on <strong>affecte</strong> l'entier <span style=\"font-family:Courier New;font-size: 100%;\">1980</span> à la variable <span style=\"font-family:Courier New;font-size: 100%;\">annee&#95;naissance</span>.<br>\n",
    "![alt text](mes_images/boite.png \"Une variable peut se voir comme une boîte\")<br>\n"
   ]
  },
  {
   "cell_type": "code",
   "execution_count": null,
   "metadata": {},
   "outputs": [],
   "source": [
    "annee_naissance = 1980 # ceci est un commentaire : on crée la variable annee_naissance"
   ]
  },
  {
   "cell_type": "markdown",
   "metadata": {},
   "source": [
    "Lorsqu'on <strong>nomme une variable</strong>, il est conseillé :\n",
    "- de lui donner un nom <strong>parlant</strong>\n",
    "\n",
    "- de n'utiliser <strong>que des minuscules</strong>.\n",
    "\n",
    "- <span style=\"text-decoration: underline;\">sans accents ni caractères spéciaux</span>, excepté l'underscore : _ (tiret du 8)\n",
    "\n",
    "\n",
    "### <span style=\"text-decoration: underline;color:green;\">2. Afficher le contenu d'une variable :</span> ###\n",
    "On utilse la fonction <span style=\"font-family:Courier New;font-size: 100%;\">print</span> :<br>\n"
   ]
  },
  {
   "cell_type": "code",
   "execution_count": null,
   "metadata": {},
   "outputs": [],
   "source": [
    "print(annee_naissance)"
   ]
  },
  {
   "cell_type": "markdown",
   "metadata": {},
   "source": [
    "### <span style=\"text-decoration: underline;color:green;\">3. Type de données :</span> ###\n",
    "Dans cette leçon, les variables pourront contenir <span style=\"text-decoration: underline;\">3 types de données</span> :<br>\n",
    "→ des entiers (<strong>int</strong>eger en anglais), comme c'est le cas de <span style=\"font-family:Courier New;font-size: 100%;\">annee&#95;naissance</span>.<br>\n",
    "<i>Exemples</i> :<br>\n",
    "<span style=\"font-family:Courier New;font-size: 100%;\">1980</span><br>\n",
    "<span style=\"font-family:Courier New;font-size: 100%;\">27</span><br>\n",
    "<span style=\"font-family:Courier New;font-size: 100%;\">248</span><br>\n",
    "<span style=\"font-family:Courier New;font-size: 100%;\">-54</span><br>\n",
    "etc.<br>\n",
    "<br>\n",
    "→ des décimaux ou flottants (<strong>float</strong> en anglais) :<br>\n",
    "<i>exemples</i> :<br>\n",
    "<span style=\"font-family:Courier New;font-size: 100%;\">30.53</span><br>\n",
    "<span style=\"font-family:Courier New;font-size: 100%;\">48.127</span><br>\n",
    "<span style=\"font-family:Courier New;font-size: 100%;\">-2.8</span><br>\n",
    "etc.<br>\n",
    "<br>\n",
    "→ des chaines de caractères (<strong>str</strong>ing en anglais), qu'on écrit entre <strong>simple</strong> ou <strong>double guillemet</strong> :<br>\n",
    "<i>Exemples</i> :<br>\n",
    "<span style=\"font-family:Courier New;font-size: 100%;\">'Bonjour'</span><br>\n",
    "<span style=\"font-family:Courier New;font-size: 100%;\">\"python\"</span><br>\n",
    "<span style=\"font-family:Courier New;font-size: 100%;\">'Je mange 3 pommes.'</span> <br>\n",
    "¤Tout ce qui est <strong>entre guillemets</strong> est considéré comme une <strong>chaine</strong> par python¤<br>\n"
   ]
  },
  {
   "cell_type": "code",
   "execution_count": null,
   "metadata": {},
   "outputs": [],
   "source": [
    "jour = 'jeudi' # ici, la variable jour contient la string 'jeudi'\n",
    "distance_marathon = 42.2 # ici, la variable distance_marathon contient le float 30.53"
   ]
  },
  {
   "cell_type": "markdown",
   "metadata": {},
   "source": [
    "● La fonction <span style=\"font-family:Courier New;font-size: 100%;\">print</span> permet un <strong>affichage multiple</strong> en utilisant la virgule entre chaque élément à afficher :<br>\n"
   ]
  },
  {
   "cell_type": "code",
   "execution_count": null,
   "metadata": {},
   "outputs": [],
   "source": [
    "print(\"Un marathon est une course de\", distance_marathon, \"km!\")"
   ]
  },
  {
   "cell_type": "markdown",
   "metadata": {},
   "source": [
    "### <span style=\"text-decoration: underline;color:green;\">4. A vous de jouer!</span> ###\n",
    "- Créez ci-dessous 2 variables : <span style=\"font-family:Courier New;font-size: 100%;\">mon&#95;prenom</span> et <span style=\"font-family:Courier New;font-size: 100%;\">mon&#95;age</span> auxquelles vous affectez la chaine et l'entier de votre choix.\n",
    "\n",
    "- Créez une variable <span style=\"font-family:Courier New;font-size: 100%;\">mon&#95;argent</span> à laquelle vous affectez <span style=\"font-family:Courier New;font-size: 100%;\">150.80</span>\n",
    "\n",
    "Puis utilisez la fonction <span style=\"font-family:Courier New;font-size: 100%;\">print</span> pour que s'affiche une phrase comme :<br>\n",
    "<br>\n",
    "<span style=\"font-family:Courier New;font-size: 100%;\">Bonjour Noah, tu as 12 ans et tu possèdes 150.80 euros.</span><br>\n",
    "<br>\n",
    "⚠️ Attention, votre phrase doit changer si on modifie l'une des variables...<br>\n"
   ]
  },
  {
   "cell_type": "code",
   "execution_count": null,
   "metadata": {},
   "outputs": [],
   "source": [
    "# Création de mon_prenom, mon_age, mon_argent et affichage de la phrase attendue\n",
    "# à compléter"
   ]
  },
  {
   "cell_type": "code",
   "execution_count": null,
   "metadata": {},
   "outputs": [],
   "source": [
    "solution.bonjour()"
   ]
  },
  {
   "cell_type": "markdown",
   "metadata": {},
   "source": [
    "● On décide de dépenser <span style=\"font-family:Courier New;font-size: 100%;\">10.80</span> euros<br>\n",
    "Créeez deux nouvelles variables <span style=\"font-family:Courier New;font-size: 100%;\">depense</span> d'une valeur de <span style=\"font-family:Courier New;font-size: 100%;\">10.80</span> et <span style=\"font-family:Courier New;font-size: 100%;\">argent&#95;restant</span> qui correspond à l'argent qui reste après cette <span style=\"font-family:Courier New;font-size: 100%;\">depense</span>.<br>\n",
    "Puis utilisez la fonction <span style=\"font-family:Courier New;font-size: 100%;\">print</span> pour afficher une phrase comme :<br>\n",
    "<br>\n",
    "<span style=\"font-family:Courier New;font-size: 100%;\">Tu avais 150.80 euros et tu as dépensé 10.80 euros. Il te reste 140 euros</span><br>\n",
    "<br>\n",
    "⚠️ Attention, votre phrase doit changer si on modifie l'une des variables...<br>\n"
   ]
  },
  {
   "cell_type": "code",
   "execution_count": null,
   "metadata": {},
   "outputs": [],
   "source": [
    "# création de depense, argent_restant et affichage de la phrase attendue\n",
    "# à compléter"
   ]
  },
  {
   "cell_type": "code",
   "execution_count": null,
   "metadata": {},
   "outputs": [],
   "source": [
    "solution.argent()"
   ]
  },
  {
   "cell_type": "markdown",
   "metadata": {},
   "source": [
    "● Quelle instruction permet d'augmenter la variable <span style=\"font-family:Courier New;font-size: 100%;\">mon&#95;age</span> de <span style=\"font-family:Courier New;font-size: 100%;\">10</span>?<br>\n"
   ]
  },
  {
   "cell_type": "code",
   "execution_count": null,
   "metadata": {},
   "outputs": [],
   "source": [
    "# Comment augmenter mon_age de 10?\n",
    "# à compléter"
   ]
  },
  {
   "cell_type": "code",
   "execution_count": null,
   "metadata": {},
   "outputs": [],
   "source": [
    "solution.augmenter()"
   ]
  },
  {
   "cell_type": "markdown",
   "metadata": {},
   "source": [
    "● Répondez aux questions suivantes :<br>\n"
   ]
  },
  {
   "cell_type": "code",
   "execution_count": null,
   "metadata": {},
   "outputs": [],
   "source": [
    "qcm.question1()"
   ]
  },
  {
   "cell_type": "code",
   "execution_count": null,
   "metadata": {},
   "outputs": [],
   "source": [
    "qcm.question2()"
   ]
  },
  {
   "cell_type": "code",
   "execution_count": null,
   "metadata": {},
   "outputs": [],
   "source": [
    "qcm.question3()"
   ]
  },
  {
   "cell_type": "markdown",
   "metadata": {},
   "source": [
    "## <span style=\"text-decoration: underline;color:red;\">III. Affecter une valeur avec une <strong>saisie</strong> :</span> ##\n",
    "### <span style=\"text-decoration: underline;color:green;\">1. La fonction <span style=\"font-family:Courier New;font-size: 100%;\">input</span> :</span> ###\n",
    "Nous avons vu qu'il était possible d'affecter une valeur (integer, float ou string) à une variable :<br>\n",
    "→ soit en lui affectant directement sa valeur <span style=\"font-family:Courier New;font-size: 100%;\">ma&#95;variable = 15</span><br>\n",
    "→ soit par l'intermédiaire d'autres variables : <span style=\"font-family:Courier New;font-size: 100%;\">argent&#95;restant = mon&#95;argent - depense</span><br>\n",
    "<br>\n",
    "Il est également possible de <strong>saisir</strong> la valeur d'une variable à l'aide de la fonction <span style=\"font-family:Courier New;font-size: 100%;\">input</span>.<br>\n",
    "<i>Exemple</i> :<br>\n"
   ]
  },
  {
   "cell_type": "code",
   "execution_count": null,
   "metadata": {},
   "outputs": [],
   "source": [
    "note_francais = input('Entre ta note en français :') # La question est mise entre guillemets\n",
    "print('Ah, tu as eu', note_francais , 'en francais')"
   ]
  },
  {
   "cell_type": "markdown",
   "metadata": {},
   "source": [
    "● On vient de créer une variable <span style=\"font-family:Courier New;font-size: 100%;\">note&#95;francais</span>, à laquelle on affecte la valeur <strong>par une saisie</strong>.<br>\n",
    "La syntaxe générale, c'est à dire la façon d'utiliser <span style=\"font-family:Courier New;font-size: 100%;\">input</span> est la suivante :<br>\n",
    "<br>\n",
    "<span style=\"font-family:Courier New;font-size: 100%;\"> ma&#95;variable = input(legende&#95;question)</span> où <span style=\"font-family:Courier New;font-size: 100%;\">legende&#95;question</span> est de type <strong>chaine</strong>.<br>\n",
    "<br>\n",
    "La légende de la question est donc à mettre <strong>entre guillemets</strong>.<br>\n",
    "<br>\n",
    "Cependant, une subtilité est à connaître... Observez le <strong>type</strong> de la variable <span style=\"font-family:Courier New;font-size: 100%;\">note&#95;francais</span> :<br>\n"
   ]
  },
  {
   "cell_type": "code",
   "execution_count": null,
   "metadata": {},
   "outputs": [],
   "source": [
    "print(\"note_francais est de type :\", type(note_francais))"
   ]
  },
  {
   "cell_type": "markdown",
   "metadata": {},
   "source": [
    "● Ce n'est pas franchement le type attendu puisqu'il est de type <span style=\"font-family:Courier New;font-size: 100%;\">string</span>, c'est à dire <strong>chaine</strong>.<br>\n",
    "On s'attendait plutôt à un type <span style=\"font-family:Courier New;font-size: 100%;\">int</span> ou <span style=\"font-family:Courier New;font-size: 100%;\">float</span>.<br>\n",
    "¤Lors d'une affectation avec <span style=\"font-family:Courier New;font-size: 100%;\">input</span>, python <i>\"ajoute des guillemets autour de la réponse\"</i>¤<br>\n",
    "La variable ainsi crée est <strong>nécessairement de type string</strong>.\n",
    "### <span style=\"text-decoration: underline;color:green;\">2. Convertir une donnée :</span> ###\n",
    "Comme l'affectation de <span style=\"font-family:Courier New;font-size: 100%;\">note&#95;francais</span> a été faite via la fonction <span style=\"font-family:Courier New;font-size: 100%;\">input</span>, elle est de type <strong>string</strong>.<br>\n",
    "Python peut convertir une chaine :\n",
    "- en entier <span style=\"text-decoration: underline;\">si c'est faisable</span> grâce à la fonction <span style=\"font-family:Courier New;font-size: 100%;\">int(...)</span>\n",
    "\n",
    "- ou en flottant <span style=\"text-decoration: underline;\">si c'est faisable</span> grâce à la fonction <span style=\"font-family:Courier New;font-size: 100%;\">float(...)</span>\n",
    "\n"
   ]
  },
  {
   "cell_type": "code",
   "execution_count": null,
   "metadata": {},
   "outputs": [],
   "source": [
    "note_francais = input('Entre ta note en français :') \n",
    "note_francais = int(note_francais) # permet de changer le type de note_francais de string vers integer\n",
    "print(\"note_francais est de type :\", type(note_francais))"
   ]
  },
  {
   "cell_type": "markdown",
   "metadata": {},
   "source": [
    "<span style=\"text-decoration: underline;\"><i>Remarque :</i></span><br>\n",
    "la fonction <span style=\"font-family:Courier New;font-size: 100%;\">str(...)</span> permet de faire le contraire : transformer un <strong>entier en chaine</strong>.<br>\n",
    "<span style=\"font-family:Courier New;font-size: 100%;\">str(13)</span> renvoie <span style=\"font-family:Courier New;font-size: 100%;\">'13'</span><br>\n",
    "![alt text](mes_images/conversion.png \"conversion\")<br>\n",
    "● Répondre aux questions suivantes :<br>\n"
   ]
  },
  {
   "cell_type": "code",
   "execution_count": null,
   "metadata": {},
   "outputs": [],
   "source": [
    "qcm.instructions()"
   ]
  },
  {
   "cell_type": "markdown",
   "metadata": {},
   "source": [
    "## <span style=\"text-decoration: underline;color:red;\">IV. Exercices :</span> ##\n",
    "<span style=\"text-decoration: underline;color:blue;\"><strong>Exercice 1 :</strong></span><br>\n",
    "Ecrire un programme qui :<br>\n",
    "→ crée deux variables <span style=\"font-family:Courier New;font-size: 100%;\">longueur</span> et <span style=\"font-family:Courier New;font-size: 100%;\">largeur</span> correspondant aux dimensions d'un rectangle.<br>\n",
    "&nbsp;&nbsp;&nbsp;&nbsp;&nbsp;&nbsp;<span style=\"font-family:Courier New;font-size: 100%;\">longueur</span> est égal <span style=\"font-family:Courier New;font-size: 100%;\">8</span> et <span style=\"font-family:Courier New;font-size: 100%;\">largeur</span> est égal à <span style=\"font-family:Courier New;font-size: 100%;\">3</span><br>\n",
    "→ crée et calcule deux nouvelles variables <span style=\"font-family:Courier New;font-size: 100%;\">perimetre</span> et <span style=\"font-family:Courier New;font-size: 100%;\">aire</span> <br>\n",
    "→ Et qui enfin affiche successivement :<br>\n",
    "<br>\n",
    "<span style=\"font-family:Courier New;font-size: 100%;\">Le périmètre d'un rectangle de longueur ... et de largeur ... vaut ...</span>.<br>\n",
    "<span style=\"font-family:Courier New;font-size: 100%;\">L'aire d'un rectangle de longueur ... et de largeur ... vaut ...</span>.<br>\n"
   ]
  },
  {
   "cell_type": "code",
   "execution_count": null,
   "metadata": {},
   "outputs": [],
   "source": [
    "# Code de l'exercice 1 :"
   ]
  },
  {
   "cell_type": "code",
   "execution_count": null,
   "metadata": {},
   "outputs": [],
   "source": [
    "solution.exercice_1()"
   ]
  },
  {
   "cell_type": "markdown",
   "metadata": {},
   "source": [
    "<span style=\"text-decoration: underline;color:blue;\"><strong>Exercice 2 :</strong></span><br>\n",
    "Ecrire un programme qui :<br>\n",
    "→ demande le prénom d'une personne<br>\n",
    "→ son age<br>\n",
    "Puis qui affiche la phrase :<br>\n",
    "<br>\n",
    "<span style=\"font-family:Courier New;font-size: 100%;\">Bonjour ..., dans 10 ans, tu auras ... ans</span>.<br>\n"
   ]
  },
  {
   "cell_type": "code",
   "execution_count": null,
   "metadata": {},
   "outputs": [],
   "source": [
    "# Code de l'exercice 2 :"
   ]
  },
  {
   "cell_type": "code",
   "execution_count": null,
   "metadata": {},
   "outputs": [],
   "source": [
    "solution.exercice_2()"
   ]
  },
  {
   "cell_type": "markdown",
   "metadata": {},
   "source": [
    "<span style=\"text-decoration: underline;color:blue;\"><strong>Exercice 3 :</strong></span><br>\n",
    "Voici un programme :\n",
    "- Demander une valeur entière à affecter à la variable <span style=\"font-family:Courier New;font-size: 100%;\">depart</span>\n",
    "\n",
    "- Créer une variable <span style=\"font-family:Courier New;font-size: 100%;\">resultat</span> en multipliant <span style=\"font-family:Courier New;font-size: 100%;\">depart</span> par deux\n",
    "\n",
    "- Retirer <span style=\"font-family:Courier New;font-size: 100%;\">4</span> à <span style=\"font-family:Courier New;font-size: 100%;\">resultat</span>\n",
    "\n",
    "- Mettre <span style=\"font-family:Courier New;font-size: 100%;\">resultat</span> au carré\n",
    "\n",
    "- Ajouter <span style=\"font-family:Courier New;font-size: 100%;\">1</span> à <span style=\"font-family:Courier New;font-size: 100%;\">resultat</span>.\n",
    "\n",
    "- afficher : Le résultat final est ...\n",
    "\n",
    "Ecrire ce programme en python en affichant les résultats à chaque étape.<br>\n"
   ]
  },
  {
   "cell_type": "code",
   "execution_count": null,
   "metadata": {},
   "outputs": [],
   "source": [
    "# code de l'exercice 3"
   ]
  },
  {
   "cell_type": "code",
   "execution_count": null,
   "metadata": {},
   "outputs": [],
   "source": [
    "solution.exercice_3()"
   ]
  },
  {
   "cell_type": "markdown",
   "metadata": {},
   "source": [
    "<span style=\"text-decoration: underline;color:blue;\"><strong>Exercice 4 :</strong></span><br>\n",
    "Ecrire un programme qui permute les valeurs de <span style=\"font-family:Courier New;font-size: 100%;\">a</span> et <span style=\"font-family:Courier New;font-size: 100%;\">b</span>.<br>\n"
   ]
  },
  {
   "cell_type": "code",
   "execution_count": null,
   "metadata": {},
   "outputs": [],
   "source": [
    "# code de l'exercice 4\n",
    "a = 5\n",
    "b = 9\n",
    "# Ecrire un code permettant de permuter a et b :"
   ]
  },
  {
   "cell_type": "code",
   "execution_count": null,
   "metadata": {},
   "outputs": [],
   "source": [
    "solution.exercice_4()"
   ]
  },
  {
   "cell_type": "markdown",
   "metadata": {},
   "source": [
    "<span style=\"text-decoration: underline;color:blue;\"><strong>Exercice 5 :</strong></span><br>\n",
    "Ecrire un programme qui permette de trouver une valeur possible de <span style=\"font-family:Courier New;font-size: 100%;\">depart</span> connaissant le <span style=\"font-family:Courier New;font-size: 100%;\">resulat</span> du programme de l'exercice 3.<br>\n",
    "Par exemle, si <span style=\"font-family:Courier New;font-size: 100%;\">resutat</span> vaut <span style=\"font-family:Courier New;font-size: 100%;\">5185</span>, quelle valeur de <span style=\"font-family:Courier New;font-size: 100%;\">depart</span> est possible?<br>\n"
   ]
  },
  {
   "cell_type": "code",
   "execution_count": null,
   "metadata": {},
   "outputs": [],
   "source": [
    "# code de l'exercice 5"
   ]
  },
  {
   "cell_type": "code",
   "execution_count": null,
   "metadata": {},
   "outputs": [],
   "source": [
    "solution.exercice_5()"
   ]
  },
  {
   "cell_type": "markdown",
   "metadata": {},
   "source": [
    "## <span style=\"text-decoration: underline;color:red;\">V. Compléments opérations:</span> ##\n",
    "L'addition, la soustraction, la multiplication et la divisions s'effectuent avec <span style=\"font-family:Courier New;font-size: 100%;\">+, - , &#42; , /</span><br>\n",
    "Dès que les variables sont des nombres (de type integer ou flottant), il n'y a pas de problème particulier à évoquer.<br>\n",
    "Que se passe-t-il avec des chaines?<br>\n"
   ]
  },
  {
   "cell_type": "code",
   "execution_count": null,
   "metadata": {},
   "outputs": [],
   "source": [
    "a = 'vive'\n",
    "b = 'la snt'\n",
    "c = a + b\n",
    "# affichez c. Que constatez-vous?"
   ]
  },
  {
   "cell_type": "markdown",
   "metadata": {},
   "source": [
    "● Lorsqu'on \"additionne\" deux chaines, on dit qu'on les <strong>concatène</strong>. Elles sont mises <strong>bout à bout</strong>.<br>\n",
    "<br>\n",
    "On peut donc :<br>\n",
    "→ additionner <span style=\"text-decoration: underline;\"><strong>deux nombres</strong></span><br>\n",
    "→ additionner <span style=\"text-decoration: underline;\"><strong>deux chaines</strong></span>, ce qui revient à les <strong>concaténer</strong>.<br>\n",
    "<br>\n",
    "On <strong>ne peut pas</strong> additionner un entier et une chaine. Une erreur survient :<br>\n"
   ]
  },
  {
   "cell_type": "code",
   "execution_count": null,
   "metadata": {},
   "outputs": [],
   "source": [
    "a = \"bonjour\"\n",
    "b = 14\n",
    "print(a + b)"
   ]
  },
  {
   "cell_type": "markdown",
   "metadata": {},
   "source": [
    "● Répondre aux questions suivantes :<br>\n"
   ]
  },
  {
   "cell_type": "code",
   "execution_count": null,
   "metadata": {},
   "outputs": [],
   "source": [
    "qcm.question4()"
   ]
  },
  {
   "cell_type": "code",
   "execution_count": null,
   "metadata": {},
   "outputs": [],
   "source": [
    "qcm.question5()"
   ]
  },
  {
   "cell_type": "markdown",
   "metadata": {},
   "source": [
    "<span style=\"text-decoration: underline;color:blue;\"><strong>Exercice 6 :</strong></span><br>\n",
    "A l'aide des variables <span style=\"font-family:Courier New;font-size: 100%;\">prenom</span> et <span style=\"font-family:Courier New;font-size: 100%;\">age</span> définies ci-dessous, construire une variable <span style=\"font-family:Courier New;font-size: 100%;\">phrase</span> qui contient la chaine :<br>\n",
    "<span style=\"font-family:Courier New;font-size: 100%;\">\"Je m'appelle ... et j'ai ... ans.\"</span><br>\n"
   ]
  },
  {
   "cell_type": "code",
   "execution_count": null,
   "metadata": {},
   "outputs": [],
   "source": [
    "prenom = \"Noah\"\n",
    "age = 10\n",
    "# Constuire la variable phrase, puis l'afficher"
   ]
  },
  {
   "cell_type": "code",
   "execution_count": null,
   "metadata": {},
   "outputs": [],
   "source": [
    "solution.phrase()"
   ]
  }
 ],
 "metadata": {},
 "nbformat": 4,
 "nbformat_minor": 4
}
