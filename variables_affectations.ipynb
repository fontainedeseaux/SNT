{
 "cells": [
  {
   "cell_type": "code",
   "execution_count": null,
   "metadata": {},
   "outputs": [],
   "source": [
    "from outils import* # Lancer la cellule pour importer les outils nécessaires au notebook."
   ]
  },
  {
   "cell_type": "markdown",
   "metadata": {},
   "source": [
    "# <div style=\"text-align:center;\"><span style=\"border: 2px solid;padding:6px;color:dodgerblue;\">PYTHON : les bases</span></div> #\n",
    "\n",
    "## <u style=\"color:red;\">I. Découverte…</u> ##\n",
    "### <u style=\"color:green;\">1. Un peu d’histoire… :</u> ###\n",
    "À la fin des années 1980, le programmeur <strong>Guido van Rossum</strong> participe au développement d’un langage de programmation nommé ABC.<br>\n",
    "![alt text](mes_images/guido.png \"Guido van Rossum\")<br>\n",
    "En 1989, il profite d'une semaine pendant les vacances de Noel pour écrire la première version d’un nouveau langage!<br>\n",
    "Fan de la série télévisée <u>Monty Python's Flying Circus</u>, il décide de baptiser ce projet <strong>Python</strong>.\n",
    "### <u style=\"color:green;\">2. Pourquoi utiliser python?</u> ###\n",
    "C'est un langage utilisé dans le <strong>monde scientifique</strong> qui présente de nombreux avantages :\n",
    "- il est <strong>libre</strong> et <strong>gratuit</strong>\n",
    "\n",
    "- <strong>multiplateforme</strong>, c'est-à-dire que les programmes réalisés pourront s'exécuter sous Windows, Mac ou Linux\n",
    "\n",
    "- Il est <strong>simple</strong>, mais <strong>puissant</strong> et <strong>rapide</strong>.\n",
    "\n",
    "- Il possède de <strong>nombreuses bibliothèques</strong> très évoluées dans de multiples domaines, notamment dans l'<strong>intelligence artificielle</strong>.\n",
    "\n",
    "\n",
    "### <u style=\"color:green;\">3. Installation de python :</u> ###\n",
    "<u>En classe</u>, nous travaillerons sous format de <strong>jupyter notebook</strong>, pour profiter de l'alternance de cellules de texte et de code.<br>\n",
    "\n",
    "## <u style=\"color:red;\">II. Variables et affectation :</u> ##\n",
    "### <u style=\"color:green;\">1. Notion de variable :</u> ###\n",
    "En python, lorsqu'on écrit  <span style=\"font-family:Courier New;font-size: 100%;\">annee_naissance = 1980</span>, on effectue <strong>2 choses</strong> :\n",
    "- on crée d'abord une <strong>variable</strong> nommée <span style=\"font-family:Courier New;font-size: 100%;\">annee_naissance</span>. C'est une sorte de \"boite\".\n",
    "\n",
    "- dans laquelle on \"range\" l'<strong>entier</strong> <span style=\"font-family:Courier New;font-size: 100%;\">1980</span>.\n",
    "\n",
    "On dit qu'on <strong>affecte</strong> l'entier <span style=\"font-family:Courier New;font-size: 100%;\">1980</span> à la variable <span style=\"font-family:Courier New;font-size: 100%;\">annee_naissance</span>.<br>\n",
    "![alt text](mes_images/boite.png \"Une variable peut se voir comme une boîte\")<br>\n"
   ]
  },
  {
   "cell_type": "code",
   "execution_count": null,
   "metadata": {},
   "outputs": [],
   "source": [
    "annee_naissance = 1980 # ceci est un commentaire : on crée la variable annee_naissance"
   ]
  },
  {
   "cell_type": "markdown",
   "metadata": {},
   "source": [
    "Lorsqu'on <strong>nomme une variable</strong>, il est conseillé :\n",
    "- de lui donner un nom <strong>parlant</strong>\n",
    "\n",
    "- de n'utiliser <strong>que des minuscules</strong>.\n",
    "\n",
    "- <u>sans accents ni caractères spéciaux</u>, excepté l'underscore : _ (tiret du 8)\n",
    "\n",
    "\n",
    "### <u style=\"color:green;\">2. Afficher le contenu d'une variable :</u> ###\n",
    "On utilse la fonction <span style=\"font-family:Courier New;font-size: 100%;\">print</span> :<br>\n"
   ]
  },
  {
   "cell_type": "code",
   "execution_count": null,
   "metadata": {},
   "outputs": [],
   "source": [
    "print(annee_naissance)"
   ]
  },
  {
   "cell_type": "markdown",
   "metadata": {},
   "source": [
    "### <u style=\"color:green;\">3. Type de données :</u> ###\n",
    "Dans cette leçon, les variables pourront contenir <u>3 types de données</u> :<br>\n",
    "→ des entiers (<strong>int</strong>eger en anglais), comme c'est le cas de <span style=\"font-family:Courier New;font-size: 100%;\">annee_naissance</span>.<br>\n",
    "*Exemples* :<br>\n",
    "<span style=\"font-family:Courier New;font-size: 100%;\">1980</span><br>\n",
    "<span style=\"font-family:Courier New;font-size: 100%;\">27</span><br>\n",
    "<span style=\"font-family:Courier New;font-size: 100%;\">248</span><br>\n",
    "<span style=\"font-family:Courier New;font-size: 100%;\">-54</span><br>\n",
    "etc.<br>\n",
    "<br>\n",
    "→ des décimaux ou flottants (<strong>float</strong> en anglais) :<br>\n",
    "*exemples* :<br>\n",
    "<span style=\"font-family:Courier New;font-size: 100%;\">30.53</span><br>\n",
    "<span style=\"font-family:Courier New;font-size: 100%;\">48.127</span><br>\n",
    "<span style=\"font-family:Courier New;font-size: 100%;\">-2.8</span><br>\n",
    "etc.<br>\n",
    "<br>\n",
    "→ des chaines de caractères (<strong>str</strong>ing en anglais), qu'on écrit entre <strong>simple</strong> ou <strong>double guillemet</strong> :<br>\n",
    "*Exemples* :<br>\n",
    "<span style=\"font-family:Courier New;font-size: 100%;\">'Bonjour'</span><br>\n",
    "<span style=\"font-family:Courier New;font-size: 100%;\">\"python\"</span><br>\n",
    "<span style=\"font-family:Courier New;font-size: 100%;\">'Je mange 3 pommes.'</span> <br>\n",
    "<br><span style=\"border: 2px solid;padding:6px;\">Tout ce qui est <strong>entre guillemets</strong> est considéré comme une <strong>chaine</strong> par python</span><br>\n",
    "<br>"
   ]
  },
  {
   "cell_type": "code",
   "execution_count": null,
   "metadata": {},
   "outputs": [],
   "source": [
    "jour = 'jeudi' # ici, la variable jour contient la string 'jeudi'\n",
    "distance_marathon = 42.2 # ici, la variable distance_marathon contient le float 30.53"
   ]
  },
  {
   "cell_type": "markdown",
   "metadata": {},
   "source": [
    "● la fonction <span style=\"font-family:Courier New;font-size: 100%;\">type</span> permet de le vérifier le type d'une donnée  :<br>\n"
   ]
  },
  {
   "cell_type": "code",
   "execution_count": null,
   "metadata": {},
   "outputs": [],
   "source": [
    "print(\"le type de jour est\", type(jour))\n",
    "print(\"le type de distance_marathon est\", type(distance_marathon))\n",
    "print(\"-8 est un entier, la preuve :\", type(-8))"
   ]
  },
  {
   "cell_type": "markdown",
   "metadata": {},
   "source": [
    "● Vous noterez que la fonction <span style=\"font-family:Courier New;font-size: 100%;\">print</span> permet un <strong>affichage multiple</strong> en utilisant la virgule entre chaque élément à afficher.<br>\n",
    "\n",
    "### <u style=\"color:green;\">4. A vous de jouer!</u> ###\n",
    "Créez ci-dessous 2 variables : <span style=\"font-family:Courier New;font-size: 100%;\">mon_prenom</span> et <span style=\"font-family:Courier New;font-size: 100%;\">mon_age</span> auxquelles vous affectez la chaine et l'entier de votre choix.<br>\n",
    "Créez une variable <span style=\"font-family:Courier New;font-size: 100%;\">mon_argent</span> à laquelle vous affectez <span style=\"font-family:Courier New;font-size: 100%;\">150.80</span><br>\n",
    "Puis utilisez la fonction <span style=\"font-family:Courier New;font-size: 100%;\">print</span> pour que s'affiche une phrase comme :<br>\n",
    "<br>\n",
    "<span style=\"font-family:Courier New;font-size: 100%;\">Bonjour Noah, tu as 12 ans et tu possèdes 150.80 euros.</span><br>\n",
    "<br>\n",
    "⚠️ Attention, votre phrase doit changer si on modifie l'une des variables...<br>\n"
   ]
  },
  {
   "cell_type": "code",
   "execution_count": null,
   "metadata": {},
   "outputs": [],
   "source": [
    "# Création de mon_prenom, mon_age, mon_argent et affichage de la phrase attendue\n",
    "# à compléter"
   ]
  },
  {
   "cell_type": "code",
   "execution_count": null,
   "metadata": {},
   "outputs": [],
   "source": [
    "solution.bonjour()"
   ]
  },
  {
   "cell_type": "markdown",
   "metadata": {},
   "source": [
    "● On décide de dépenser <span style=\"font-family:Courier New;font-size: 100%;\">10.80</span> euros<br>\n",
    "Créeez deux nouvelles variables <span style=\"font-family:Courier New;font-size: 100%;\">depense</span> d'une valeur de <span style=\"font-family:Courier New;font-size: 100%;\">10.80</span> et <span style=\"font-family:Courier New;font-size: 100%;\">argent_restant</span> qui correspond à l'argent qui reste après cette <span style=\"font-family:Courier New;font-size: 100%;\">depense</span>.<br>\n",
    "Puis utilisez la fonction <span style=\"font-family:Courier New;font-size: 100%;\">print</span> pour afficher une phrase comme :<br>\n",
    "<br>\n",
    "<span style=\"font-family:Courier New;font-size: 100%;\">Tu avais 150.80 euros et tu as dépensé 10.80 euros. Il te reste 140 euros</span><br>\n",
    "<br>\n",
    "⚠️ Attention, votre phrase doit changer si on modifie l'une des variables...<br>\n"
   ]
  },
  {
   "cell_type": "code",
   "execution_count": null,
   "metadata": {},
   "outputs": [],
   "source": [
    "# création de depense, argent_restant et affichage de la phrase attendue\n",
    "# à compléter"
   ]
  },
  {
   "cell_type": "code",
   "execution_count": null,
   "metadata": {},
   "outputs": [],
   "source": [
    "solution.argent()"
   ]
  },
  {
   "cell_type": "markdown",
   "metadata": {},
   "source": [
    "● Quelle instruction permet d'augmenter la variable <span style=\"font-family:Courier New;font-size: 100%;\">mon_age</span> de <span style=\"font-family:Courier New;font-size: 100%;\">10</span>?<br>\n"
   ]
  },
  {
   "cell_type": "code",
   "execution_count": null,
   "metadata": {},
   "outputs": [],
   "source": [
    "# Comment augmenter mon_age de 10?\n",
    "# à compléter"
   ]
  },
  {
   "cell_type": "code",
   "execution_count": null,
   "metadata": {},
   "outputs": [],
   "source": [
    "solution.augmenter()"
   ]
  },
  {
   "cell_type": "markdown",
   "metadata": {},
   "source": [
    "● Répondez aux questions suivantes :<br>\n"
   ]
  },
  {
   "cell_type": "code",
   "execution_count": null,
   "metadata": {},
   "outputs": [],
   "source": [
    "qcm.question1()"
   ]
  },
  {
   "cell_type": "code",
   "execution_count": null,
   "metadata": {},
   "outputs": [],
   "source": [
    "qcm.question2()"
   ]
  },
  {
   "cell_type": "code",
   "execution_count": null,
   "metadata": {},
   "outputs": [],
   "source": [
    "qcm.question3()"
   ]
  },
  {
   "cell_type": "markdown",
   "metadata": {},
   "source": [
    "## <u style=\"color:red;\">III. Affecter une valeur avec une <strong>saisie</strong> :</u> ##\n",
    "### <u style=\"color:green;\">1. La fonction <span style=\"font-family:Courier New;font-size: 100%;\">input</span> :</u> ###\n",
    "Nous avons vu qu'il était possible d'affecter une valeur (integer, float ou string) à une variable :<br>\n",
    "→ soit en lui affectant directement sa valeur <span style=\"font-family:Courier New;font-size: 100%;\">ma_variable = 15</span><br>\n",
    "→ soit par l'intermédiaire d'autres variables : <span style=\"font-family:Courier New;font-size: 100%;\">argent_restant = mon_argent - depense</span><br>\n",
    "<br>\n",
    "Il est également possible de <strong>saisir</strong> la valeur d'une variable à l'aide de la fonction <span style=\"font-family:Courier New;font-size: 100%;\">input</span>.<br>\n",
    "*Exemple* :<br>\n"
   ]
  },
  {
   "cell_type": "code",
   "execution_count": null,
   "metadata": {},
   "outputs": [],
   "source": [
    "note_francais = input('Entre ta note en français :') # La question est mise entre guillemets\n",
    "print('Ah, tu as eu', note_francais , 'en francais')"
   ]
  },
  {
   "cell_type": "markdown",
   "metadata": {},
   "source": [
    "● On vient de créer une variable <span style=\"font-family:Courier New;font-size: 100%;\">note_francais</span>, à laquelle on affecte la valeur <strong>par une saisie</strong>.<br>\n",
    "La syntaxe générale, c'est à dire la façon d'utiliser <span style=\"font-family:Courier New;font-size: 100%;\">input</span> est la suivante :<br>\n",
    "<br>\n",
    "<span style=\"font-family:Courier New;font-size: 100%;\"> ma_variable = input(legende_question)</span> où <span style=\"font-family:Courier New;font-size: 100%;\">legende_question</span> est de type <strong>chaine</strong>.<br>\n",
    "<br>\n",
    "La légende de la question est donc à mettre <strong>entre guillemets</strong>.<br>\n",
    "<br>\n",
    "Cependant, une subtilité est à connaître... Observez le <strong>type</strong> de la variable <span style=\"font-family:Courier New;font-size: 100%;\">note_francais</span> :<br>\n"
   ]
  },
  {
   "cell_type": "code",
   "execution_count": null,
   "metadata": {},
   "outputs": [],
   "source": [
    "print(type(note_francais))"
   ]
  },
  {
   "cell_type": "markdown",
   "metadata": {},
   "source": [
    "● Ce n'est pas franchement le type attendu! On s'attendait plutôt à un type <span style=\"font-family:Courier New;font-size: 100%;\">int</span> ou <span style=\"font-family:Courier New;font-size: 100%;\">float</span>.<br>\n",
    "<br><span style=\"border: 2px solid;padding:6px;\">Lors d'une affectation avec <span style=\"font-family:Courier New;font-size: 100%;\">input</span>, python <i>\"ajoute des guillemets autour de la réponse\"</i></span><br>\n",
    "<br>La variable ainsi crée est <strong>nécessairement de type string</strong>.\n",
    "### <u style=\"color:green;\">2. Convertir une donnée :</u> ###\n",
    "Comme l'affectation de <span style=\"font-family:Courier New;font-size: 100%;\">note_francais</span> a été faite via la fonction <span style=\"font-family:Courier New;font-size: 100%;\">input</span>, elle est de type <strong>string</strong>.<br>\n",
    "Python peut convertir une chaine :\n",
    "- en entier <u>si c'est faisable</u> grâce à la fonction <span style=\"font-family:Courier New;font-size: 100%;\">int(...)</span>\n",
    "\n",
    "- ou en flottant <u>si c'est faisable</u> grâce à la fonction <span style=\"font-family:Courier New;font-size: 100%;\">float(...)</span>\n",
    "\n"
   ]
  },
  {
   "cell_type": "code",
   "execution_count": null,
   "metadata": {},
   "outputs": [],
   "source": [
    "note_francais = int(note_francais) # permet de changer le type de note_francais de string vers integer\n",
    "print(type(note_francais))"
   ]
  },
  {
   "cell_type": "markdown",
   "metadata": {},
   "source": [
    "<u>*Remarque :*</u><br>\n",
    "la fonction <span style=\"font-family:Courier New;font-size: 100%;\">str(...)</span> permet de faire le contraire : transformer un <strong>entier en chaine</strong>.<br>\n",
    "<span style=\"font-family:Courier New;font-size: 100%;\">str(13)</span> renvoie <span style=\"font-family:Courier New;font-size: 100%;\">'13'</span><br>\n",
    "![alt text](mes_images/conversion.png \"conversion\")<br>\n",
    "● Répondre aux questions suivantes :<br>\n"
   ]
  },
  {
   "cell_type": "code",
   "execution_count": null,
   "metadata": {},
   "outputs": [],
   "source": [
    "qcm.instructions()"
   ]
  },
  {
   "cell_type": "markdown",
   "metadata": {},
   "source": [
    "## <u style=\"color:red;\">IV. Exercices :</u> ##\n",
    "<u style=\"color:blue;\"><strong>Exercice 1 :</strong></u><br>\n",
    "Ecrire un programme qui :<br>\n",
    "→ crée deux variables <span style=\"font-family:Courier New;font-size: 100%;\">longueur</span> et <span style=\"font-family:Courier New;font-size: 100%;\">largeur</span> correspondant aux dimensions d'un rectangle.<br>\n",
    "&nbsp;&nbsp;&nbsp;&nbsp;&nbsp;&nbsp;<span style=\"font-family:Courier New;font-size: 100%;\">longueur</span> est égal <span style=\"font-family:Courier New;font-size: 100%;\">8</span> et <span style=\"font-family:Courier New;font-size: 100%;\">largeur</span> est égal à <span style=\"font-family:Courier New;font-size: 100%;\">3</span><br>\n",
    "→ crée et calcule deux nouvelles variables <span style=\"font-family:Courier New;font-size: 100%;\">perimetre</span> et <span style=\"font-family:Courier New;font-size: 100%;\">aire</span> <br>\n",
    "→ Et qui enfin affiche successivement :<br>\n",
    "<br>\n",
    "<span style=\"font-family:Courier New;font-size: 100%;\">Le périmètre d'un rectangle de longueur ... et de largeur ... vaut ...</span>.<br>\n",
    "<span style=\"font-family:Courier New;font-size: 100%;\">Le périmètre d'un rectangle de longueur ... et de largeur ... vaut ...</span>.<br>\n"
   ]
  },
  {
   "cell_type": "code",
   "execution_count": null,
   "metadata": {},
   "outputs": [],
   "source": [
    "# Code de l'exercice 1 :"
   ]
  },
  {
   "cell_type": "code",
   "execution_count": null,
   "metadata": {},
   "outputs": [],
   "source": [
    "solution.exercice_1()"
   ]
  },
  {
   "cell_type": "markdown",
   "metadata": {},
   "source": [
    "<u style=\"color:blue;\"><strong>Exercice 2 :</strong></u><br>\n",
    "Ecrire un programme qui :<br>\n",
    "→ demande le prénom d'une personne<br>\n",
    "→ son age<br>\n",
    "Puis qui affiche la phrase :<br>\n",
    "<br>\n",
    "<span style=\"font-family:Courier New;font-size: 100%;\">Bonjour ..., dans 10 ans, tu auras ... ans</span>.<br>\n"
   ]
  },
  {
   "cell_type": "code",
   "execution_count": null,
   "metadata": {},
   "outputs": [],
   "source": [
    "# Code de l'exercice 2 :"
   ]
  },
  {
   "cell_type": "code",
   "execution_count": null,
   "metadata": {},
   "outputs": [],
   "source": [
    "solution.exercice_2()"
   ]
  },
  {
   "cell_type": "markdown",
   "metadata": {},
   "source": [
    "<u style=\"color:blue;\"><strong>Exercice 3 :</strong></u><br>\n",
    "Voici un programme :\n",
    "- Demander une valeur entière à affecter à la variable <span style=\"font-family:Courier New;font-size: 100%;\">depart</span>\n",
    "\n",
    "- Créer une variable <span style=\"font-family:Courier New;font-size: 100%;\">resultat</span> en multipliant <span style=\"font-family:Courier New;font-size: 100%;\">depart</span> par deux\n",
    "\n",
    "- Retirer <span style=\"font-family:Courier New;font-size: 100%;\">4</span> à <span style=\"font-family:Courier New;font-size: 100%;\">resultat</span>\n",
    "\n",
    "- Mettre <span style=\"font-family:Courier New;font-size: 100%;\">resultat</span> au carré\n",
    "\n",
    "- Ajouter <span style=\"font-family:Courier New;font-size: 100%;\">1</span> à <span style=\"font-family:Courier New;font-size: 100%;\">resultat</span>.\n",
    "\n",
    "- afficher : Le résultat finale est ...\n",
    "\n",
    "Ecrire ce programme en python en affichant les résultats à chaque étape.<br>\n"
   ]
  },
  {
   "cell_type": "code",
   "execution_count": null,
   "metadata": {},
   "outputs": [],
   "source": [
    "# code de l'exercice 3"
   ]
  },
  {
   "cell_type": "code",
   "execution_count": null,
   "metadata": {},
   "outputs": [],
   "source": [
    "solution.exercice_3()"
   ]
  },
  {
   "cell_type": "markdown",
   "metadata": {},
   "source": [
    "<u style=\"color:blue;\"><strong>Exercice 4 :</strong></u><br>\n",
    "Ecrire un programme qui permute les valeurs de <span style=\"font-family:Courier New;font-size: 100%;\">a</span> et <span style=\"font-family:Courier New;font-size: 100%;\">b</span>.<br>\n"
   ]
  },
  {
   "cell_type": "code",
   "execution_count": null,
   "metadata": {},
   "outputs": [],
   "source": [
    "# code de l'exercice 4\n",
    "a = 5\n",
    "b = 9\n",
    "# Ecrire un code permettant de permuter a et b :"
   ]
  },
  {
   "cell_type": "code",
   "execution_count": null,
   "metadata": {},
   "outputs": [],
   "source": [
    "solution.exercice_4()"
   ]
  },
  {
   "cell_type": "markdown",
   "metadata": {},
   "source": [
    "<u style=\"color:blue;\"><strong>Exercice 5 :</strong></u><br>\n",
    "Ecrire un programme qui permette de trouver une valeur possible de <span style=\"font-family:Courier New;font-size: 100%;\">depart</span> connaissant le <span style=\"font-family:Courier New;font-size: 100%;\">resulat</span> du programme de l'exercice 3.<br>\n",
    "Par exemle, si <span style=\"font-family:Courier New;font-size: 100%;\">resutat</span> vaut <span style=\"font-family:Courier New;font-size: 100%;\">5185</span>, quelle valeur de <span style=\"font-family:Courier New;font-size: 100%;\">depart</span> est possible?<br>\n"
   ]
  },
  {
   "cell_type": "code",
   "execution_count": null,
   "metadata": {},
   "outputs": [],
   "source": [
    "# code de l'exercice 5"
   ]
  },
  {
   "cell_type": "code",
   "execution_count": null,
   "metadata": {},
   "outputs": [],
   "source": [
    "solution.exercice_5()"
   ]
  },
  {
   "cell_type": "markdown",
   "metadata": {},
   "source": [
    "## <u style=\"color:red;\">V. Compléments opérations:</u> ##\n",
    "L'addition, la soustraction, la multiplication et la divisions s'effectuent avec <span style=\"font-family:Courier New;font-size: 100%;\">+, - , &#42; , /</span><br>\n",
    "Dès que les variables sont des nombres (de type integer ou flottant), il n'y a pas de problème particulier à évoquer.<br>\n",
    "Que se passe-t-il avec des chaines?<br>\n"
   ]
  },
  {
   "cell_type": "code",
   "execution_count": null,
   "metadata": {},
   "outputs": [],
   "source": [
    "a = 'vive'\n",
    "b = 'la snt'\n",
    "c = a + b\n",
    "# affichez c. Que constatez-vous?"
   ]
  },
  {
   "cell_type": "markdown",
   "metadata": {},
   "source": [
    "● Lorsqu'on \"additionne\" deux chaines, on dit qu'on les <strong>concatène</strong>. Elles sont mises <strong>bout à bout</strong>.<br>\n",
    "<br>\n",
    "On peut donc :<br>\n",
    "→ additionner <u>deux nombres</u><br>\n",
    "→ additionner <u>deux chaines</u>, ce qui revient à les concaténer.<br>\n",
    "<br>\n",
    "On <strong>ne peut pas</strong> additionner un entier et une chaine. Une erreur survient :<br>\n"
   ]
  },
  {
   "cell_type": "code",
   "execution_count": null,
   "metadata": {},
   "outputs": [],
   "source": [
    "a = \"bonjour\"\n",
    "b = 14\n",
    "print(a + b)"
   ]
  },
  {
   "cell_type": "markdown",
   "metadata": {},
   "source": [
    "● Répondre aux questions suivantes :<br>\n"
   ]
  },
  {
   "cell_type": "code",
   "execution_count": null,
   "metadata": {},
   "outputs": [],
   "source": [
    "qcm.question4()"
   ]
  },
  {
   "cell_type": "code",
   "execution_count": null,
   "metadata": {},
   "outputs": [],
   "source": [
    "qcm.question5()"
   ]
  },
  {
   "cell_type": "markdown",
   "metadata": {},
   "source": [
    "<u style=\"color:blue;\"><strong>Exercice 6 :</strong></u><br>\n",
    "A l'aide des variables <span style=\"font-family:Courier New;font-size: 100%;\">prenom</span> et <span style=\"font-family:Courier New;font-size: 100%;\">age</span> définies ci-dessous, construire une variable <span style=\"font-family:Courier New;font-size: 100%;\">phrase</span> qui contient la chaine :<br>\n",
    "<span style=\"font-family:Courier New;font-size: 100%;\">\"Je m'appelle ... et j'ai ... ans.\"</span><br>\n"
   ]
  },
  {
   "cell_type": "code",
   "execution_count": null,
   "metadata": {},
   "outputs": [],
   "source": [
    "prenom = \"Noah\"\n",
    "age = 10\n",
    "# Constuire la variable phrase, puis l'afficher"
   ]
  },
  {
   "cell_type": "code",
   "execution_count": null,
   "metadata": {},
   "outputs": [],
   "source": [
    "solution.phrase()"
   ]
  }
 ],
 "metadata": {},
 "nbformat": 4,
 "nbformat_minor": 4
}
