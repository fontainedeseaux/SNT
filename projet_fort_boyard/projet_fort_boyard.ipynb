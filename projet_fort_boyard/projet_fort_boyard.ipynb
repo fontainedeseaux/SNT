{
 "cells": [
  {
   "cell_type": "markdown",
   "metadata": {},
   "source": [
    "# <div style=\"text-align:center;\"><span style=\"border: 2px solid;padding:6px;color:dodgerblue;\">MINI PROJET JEU DES ALLUMETTES</span></div> #\n",
    "\n",
    "### <u style=\"color:green;\">1. Présentation du jeu :</u> ###\n",
    "On souhaite écrire un programme qui permette de jouer au jeu des allumettes de Fort Boyard:<br>\n",
    "![alt text](allumettes.png \"jeu de fort Boyard\")<br>\n",
    "Le principe est le suivant :\n",
    "- 20 allumettes sont disposées sur une table.\n",
    "\n",
    "- il y a deux joueurs qui jouent <strong>tour à tour</strong>.\n",
    "\n",
    "- un joueur peut prendre de <strong>1 à 3</strong> allumettes par tour, <u>sauf s'il en reste moins sur le plateau!</u>\n",
    "\n",
    "\n",
    "- <span style=\"border: 2px solid;padding:6px;\">Le joueur qui prend la dernière allumettes perd.</span>\n",
    "\n",
    "\n",
    "### <u style=\"color:green;\">2. Structure attendue du programme :</u> ###\n",
    "→ créer une variable <span style=\"font-family:Courier New;font-size: 100%;\">nb_allumettes</span> initialisée à <span style=\"font-family:Courier New;font-size: 100%;\">20</span><br>\n",
    "On peut <strong>afficher</strong> les allumettes présentes sur le plateau en écrivant :<br>\n",
    "<span style=\"font-family:Courier New;font-size: 100%;\">print(nb_allumettes * '|')</span><br>\n",
    "<br>\n",
    "→ créer une variable <span style=\"font-family:Courier New;font-size: 100%;\">num_joueur</span> initialisée à <span style=\"font-family:Courier New;font-size: 100%;\">1</span>.<br>\n",
    "<span style=\"font-family:Courier New;font-size: 100%;\">num_joueur</span> prendra <strong>alternativement</strong> les valeurs <span style=\"font-family:Courier New;font-size: 100%;\">1</span>, puis <span style=\"font-family:Courier New;font-size: 100%;\">2</span>, puis <span style=\"font-family:Courier New;font-size: 100%;\">1</span>, puis <span style=\"font-family:Courier New;font-size: 100%;\">2</span>, etc.<br>\n",
    "<br>\n",
    "→ A l'aide d'une <strong>boucle infinie</strong> :\n",
    "- demander à <span style=\"font-family:Courier New;font-size: 100%;\">num_joueur</span> combien d'allumettes il souhaite retirer.\n",
    "\n",
    "- <strong>Si sa demande est valide</strong>, retirer ce nombre à <span style=\"font-family:Courier New;font-size: 100%;\">nb_allumettes</span> et <strong>afficher l'état du plateau</strong>.\n",
    "\n",
    "- Casser la boucle infinie si <span style=\"font-family:Courier New;font-size: 100%;\">num_joueur</span> a perdu\n",
    "\n",
    "- Modifier la valeur de <span style=\"font-family:Courier New;font-size: 100%;\">num_joueur</span>\n",
    "\n",
    "\n",
    "### <u style=\"color:green;\">3. Améliorations possibles :</u> ###\n",
    "a) Demander le prénom de chaque joueur et afficher le prénom de celui qui doit jouer à chaque tour<br>\n",
    "b) Demander avant le début de la partie le nombre de matchs sur lequel vont s'affronter les deux joueurs.<br>\n",
    "Et déclarer un vainqueur avec le score final sur l'ensemble des matchs disputés.<br>\n"
   ]
  },
  {
   "cell_type": "code",
   "execution_count": null,
   "metadata": {},
   "outputs": [],
   "source": [
    "# code de votre programme"
   ]
  }
 ],
 "metadata": {},
 "nbformat": 4,
 "nbformat_minor": 4
}
