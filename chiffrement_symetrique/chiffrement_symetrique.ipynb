{
 "cells": [
  {
   "cell_type": "code",
   "execution_count": null,
   "id": "0303da92",
   "metadata": {},
   "outputs": [],
   "source": [
    "from outils import* # Lancer la cellule pour importer les outils nécessaires au notebook."
   ]
  },
  {
   "cell_type": "markdown",
   "id": "7f4ce92a",
   "metadata": {},
   "source": [
    "# <div style = \"text-align : center;\"><span style=\"border: 2px solid;padding:6px;color:dodgerblue;\">CHIFFREMENT SYMETRIQUE ET ASYMETRIQUE</span></div> #\n",
    "\n",
    "## <span style=\"text-decoration: underline;color:red;\">I. Contexte:</span> ##\n",
    "Dans les usages quotidiens d’internet (achats en ligne par exemple), les informations doivent être <strong>cryptéees</strong> afin d’éviter qu’une personne interceptant cette information ne soit capable d’en lire le contenu.<br>\n",
    "![alt text](mes_images/hacker.png)<br>\n",
    "Cependant, les techniques de cryptographie sont antérieures à internet... <br>\n",
    "L’objectif de ce chapitre est de présenter certains procédés de <strong>cryptographie</strong>, indépendamment de la méthode de transmission<br>\n",
    "<br>\n",
    "Dans un deuxième notebook, nous étudierons un <strong>protocole d’échange de données sécurisées</strong> sur internet.\n",
    "### <span style=\"text-decoration: underline;color:green;\">1. Vocabulaire :</span> ###\n",
    "Définitions liées à la représentation de l’information :\n",
    "- <strong>Coder</strong> ou <strong>encoder</strong> une information : la représenter par un ensemble de signes prédéfinis ($0$ et $1$ en binaire par exemple).\n",
    "\n",
    "\n",
    "- <strong>Décoder</strong> une information : interpréter l'ensemble de signes qui la codent pour l'extraire.\n",
    "\n",
    "\n",
    "- <strong>Chiffrer</strong> : rendre <strong>incompréhensible</strong> une suite de symboles  au moyen d’une <strong>clé de chiffrement</strong>\n",
    "\n",
    "\n",
    "- <strong>Déchiffrer</strong> : retrouver la suite de symboles originale à partir du message chiffré <strong>en utilisant une clé de déchiffrement</strong>\n",
    "\n",
    "\n",
    "- <strong>Décrypter</strong> : retrouver la suite de symboles originale à partir du message chiffré <strong>sans posséder la clé de déchiffrement</strong>\n",
    "\n",
    "## <span style=\"text-decoration: underline;color:red;\">II. Chiffrement symétrique:</span> ##\n",
    "<div class=\"alert alert-block alert-info\"> Le chiffrement <strong>symétrique</strong> est basé sur le principe <strong>d'une même clé</strong> utilisée pour chiffrer et déchiffrer le message.</div><br>\n",
    "Etudions deux exemples classiques.<br>\n",
    "\n",
    "### <span style=\"text-decoration: underline;color:green;\">1. Le chiffrement de César (-50 AV JC):</span> ###\n",
    "![alt text](mes_images/cesar.jpg)\n",
    "#### <span style=\"text-decoration: underline;color:blue;\">a. Quelques rappels :</span> ####\n",
    "● Avec le standard <strong>Unicode</strong>, <span style=\"font-weight: bold;\">tout caractère</span> est <strong>identifié de façon unique par un entier</strong> qu'on obtient avec la fonction <span style=\"font-family:Courier New;font-size: 100%;\">ord</span> Python :<br>\n"
   ]
  },
  {
   "cell_type": "code",
   "execution_count": null,
   "id": "c28aba4f",
   "metadata": {},
   "outputs": [],
   "source": [
    "print(\"A est identifié par l'entier\", ord(\"A\"))\n",
    "print(\"N est identifié par l'entier\", ord(\"N\"))\n",
    "print(\"Z est identifié par l'entier\", ord(\"Z\"))"
   ]
  },
  {
   "cell_type": "markdown",
   "id": "581bdece",
   "metadata": {},
   "source": [
    "● On peut inversement obtenir le caractère en connaissant cet entier avec la fonction <span style=\"font-family:Courier New;font-size: 100%;\">chr</span> :<br>\n"
   ]
  },
  {
   "cell_type": "code",
   "execution_count": null,
   "id": "08b6d09d",
   "metadata": {},
   "outputs": [],
   "source": [
    "print(\"Le caractère d'identifiant\", 65, \"est\", chr(65))\n",
    "print(\"Le caractère d'identifiant\", 78, \"est\", chr(78))\n",
    "print(\"Le caractère d'identifiant\", 90, \"est\", chr(90))"
   ]
  },
  {
   "cell_type": "markdown",
   "id": "e63a9a86",
   "metadata": {},
   "source": [
    "● Ainsi, les majuscules ont un unicode allant de 65(A) à 90(Z) et les minuscules de 97(a) à 122(z).\n",
    "#### <span style=\"text-decoration: underline;color:blue;\">b. Principe du chiffrement :</span> ####\n",
    "● On applique un <strong>même décalage</strong> pour chaque lettre du message (en repartant au \"A\" après le \"Z\"). <br>\n",
    "Il suffit donc d’appliquer ce décalage \"dans l’autre sens\" pour retrouver le message d’origine.<br>\n",
    "<br>\n",
    "● Ce principe est évidemment <strong>peu efficace</strong> car on peut décrypter n’importe quel message par <strong>\"force brute\"</strong> (ie en <strong>testant tous les décalages possibles</strong>).<br>\n",
    "Complétez la fonction <span style=\"font-family:Courier New;font-size: 100%;\">chiffrer&#95;cesar</span> :<br>\n",
    "&nbsp;&nbsp;&nbsp;&nbsp;&nbsp;&nbsp;&nbsp;&nbsp;→ qui prend en paramètre un message <span style=\"font-family:Courier New;font-size: 100%;\">str&#95;message</span> ne contenant <strong>que des majuscules sans espaces</strong><br>\n",
    "&nbsp;&nbsp;&nbsp;&nbsp;&nbsp;&nbsp;&nbsp;&nbsp;→ et qui renvoie la chaine obtenue après décalage de chaque lettre de l'entier <span style=\"font-family:Courier New;font-size: 100%;\">int&#95;decalage</span><br>\n"
   ]
  },
  {
   "cell_type": "code",
   "execution_count": null,
   "id": "ebc68ad9",
   "metadata": {},
   "outputs": [],
   "source": [
    "def chiffrement_cesar(str_message, int_decalage):\n",
    "    '''renvoie le message obtenu en appliquant à chaque lettre de str_message le int_decalage choisi'''\n",
    "    pass\n",
    "\n",
    "assert chiffrement_cesar(\"ABCD\", 1) == \"BCDE\", \"erreur\""
   ]
  },
  {
   "cell_type": "code",
   "execution_count": null,
   "id": "0ccd8dcc",
   "metadata": {},
   "outputs": [],
   "source": [
    "solution.chiffrement_cesar()"
   ]
  },
  {
   "cell_type": "markdown",
   "id": "76beac17",
   "metadata": {},
   "source": [
    "### <span style=\"text-decoration: underline;color:green;\">2. Le chiffrement <span style=\"font-family:Courier New;font-size: 100%;\">XOR</span> :</span> ###\n",
    "![alt text](mes_images/xor.png)<br>\n",
    "Ce chiffrement est un peu moins naïf. Il est basé sur l’opérateur binaire <span style=\"font-family:Courier New;font-size: 100%;\">XOR</span> (“ou exclusif\") directement implémenté dans les unités arithmétiques et logiques (<i>UAL</i>) des processeurs. <br>\n",
    "<span style=\"font-family:Courier New;font-size: 100%;\">XOR</span> est un opérateur est noté ⊕ \n",
    "#### <span style=\"text-decoration: underline;color:blue;\">a. <span style=\"font-family:Courier New;font-size: 100%;\">XOR</span> :</span> ####\n"
   ]
  },
  {
   "cell_type": "code",
   "execution_count": null,
   "id": "a2069160",
   "metadata": {},
   "outputs": [],
   "source": [
    "qcm.XOR()"
   ]
  },
  {
   "cell_type": "code",
   "execution_count": null,
   "id": "ac7bc846",
   "metadata": {},
   "outputs": [],
   "source": [
    "qcm.deux_fois_XOR()"
   ]
  },
  {
   "cell_type": "markdown",
   "id": "57f23818",
   "metadata": {},
   "source": [
    "#### <span style=\"text-decoration: underline;color:blue;\">b. Principe du chiffrement :</span> ####\n",
    "● On dispose d’un texte <span style=\"font-family:Courier New;font-size: 100%;\">message</span> à chiffrer:<br>\n",
    "&nbsp;&nbsp;&nbsp;&nbsp;&nbsp;&nbsp;&nbsp;&nbsp;→ par exemple <span style=\"font-family:Courier New;font-size: 100%;\">message = \"VIVE LA NSI\"</span><br>\n",
    "&nbsp;&nbsp;&nbsp;&nbsp;&nbsp;&nbsp;&nbsp;&nbsp;→ à l’aide d’une <span style=\"text-decoration: underline;\"><span style=\"font-family:Courier New;font-size: 100%;\">cle</span> de chiffrement</span> qui est aussi un texte (plus court), par exemple <span style=\"font-family:Courier New;font-size: 100%;\">cle = \"hmx\"</span>.<br>\n",
    "<br>\n",
    "● On répète <strong>autant de fois que nécessaire</strong> les caractères de <span style=\"font-family:Courier New;font-size: 100%;\">cle</span> afin d’obtenir une chaine de même longueur que <span style=\"font-family:Courier New;font-size: 100%;\">message</span> :<br>\n",
    "ici cela donnerait :<br>\n",
    "![alt text](mes_images/exemple_xor.png)<br>\n",
    "<br>\n",
    "● On encode chaque caractère de <span style=\"font-family:Courier New;font-size: 100%;\">message</span> et <span style=\"font-family:Courier New;font-size: 100%;\">cle</span> en un entier (<strong>Unicode</strong>), qu'on convertit ensuite en <strong>binaire</strong>. Ici :<br>\n",
    "&nbsp;&nbsp;&nbsp;&nbsp;&nbsp;&nbsp;&nbsp;&nbsp;→ le <span style=\"font-family:Courier New;font-size: 100%;\">V</span> de <span style=\"font-family:Courier New;font-size: 100%;\">VIVE LA NSI</span> est codé par l'entier <span style=\"font-family:Courier New;font-size: 100%;\">86</span> soit <span style=\"font-family:Courier New;font-size: 100%;\">01010110</span> en binaire.<br>\n",
    "&nbsp;&nbsp;&nbsp;&nbsp;&nbsp;&nbsp;&nbsp;&nbsp;→ le <span style=\"font-family:Courier New;font-size: 100%;\">h</span> de <span style=\"font-family:Courier New;font-size: 100%;\">hmx</span> est codé par l'entier <span style=\"font-family:Courier New;font-size: 100%;\">104</span> soit <span style=\"font-family:Courier New;font-size: 100%;\">01101000</span> en binaire.<br>\n",
    "<br>\n",
    "La fonction <span style=\"font-family:Courier New;font-size: 100%;\">binaire(str&#95;caractere)</span> permet d'obtenir <strong>directement l'écriture binaire</strong> de l'entier qui code <span style=\"font-family:Courier New;font-size: 100%;\">str&#95;caractere</span> :<br>\n"
   ]
  },
  {
   "cell_type": "code",
   "execution_count": null,
   "id": "6821bc58",
   "metadata": {},
   "outputs": [],
   "source": [
    "def binaire(str_caractere):\n",
    "    \"\"\"renvoie, sous forme d'une chaine, le codage en binaire du caractere str_caractere\"\"\"\n",
    "    r  = bin(ord(str_caractere))[2:]\n",
    "    return (8-len(r))*\"0\" + r\n",
    "\n",
    "binaire(\"A\") # renvoie l'entier 65 codé en binaire sur un octet"
   ]
  },
  {
   "cell_type": "markdown",
   "id": "0bd9b63a",
   "metadata": {},
   "source": [
    "● Il reste à faire un <span style=\"font-family:Courier New;font-size: 100%;\">XOR</span> sur chacun des 8 bits entre les 2 valeurs obtenues :<br>\n",
    "![alt text](mes_images/chiffrer_xor.png)<br>\n",
    "<span style=\"font-weight: bold;color:red;\"><span style=\"font-family:Courier New;font-size: 100%;\">00111110</span></span> correspond à <span style=\"font-weight: bold;color:red;\"><span style=\"font-family:Courier New;font-size: 100%;\">62</span></span>, c'est à dire au caractère <span style=\"font-weight: bold;color:red;\">></span>.<br>\n",
    "La fonction <span style=\"font-family:Courier New;font-size: 100%;\">caractere(str&#95;binaire)</span> permet d'obtenir directement le caractère dont l'écriture binaire est donné :<br>\n"
   ]
  },
  {
   "cell_type": "code",
   "execution_count": null,
   "id": "c2ca7006",
   "metadata": {},
   "outputs": [],
   "source": [
    "def caractere(str_binaire):\n",
    "    '''renvoie le caractère ayant pour code binaire str_binaire'''\n",
    "    return chr(int(str_binaire, 2))\n",
    "\n",
    "caractere(\"00111110\") # 00111110 = 62 qui code '>'"
   ]
  },
  {
   "cell_type": "markdown",
   "id": "42da2586",
   "metadata": {},
   "source": [
    "● Le message est chiffré en <strong>répétant ce procédé</strong> sur chaque caractère du message.<br>\n",
    "Le chiffrement est <strong>symétrique</strong>, car on déchiffre en appliquant l'opérateur ⊕ avec <strong>la même clé</strong> au message chiffré. <br>\n",
    "<br>\n",
    "<span style=\"text-decoration: underline;font-style: italic;\">Remarque :</span><br>\n",
    "En <i>Python</i>, l'opérateur <span style=\"font-family:Courier New;font-size: 100%;\">XOR</span> s'obtient à l'aide du symbole <span style=\"font-family:Courier New;font-size: 100%;\">^</span> <strong>entre deux entiers</strong>:<br>\n",
    "<span style=\"font-family:Courier New;font-size: 100%;\">1 ^ 0</span> renvoie <span style=\"font-family:Courier New;font-size: 100%;\">1</span><br>\n",
    "<br>\n",
    "● Complétez la fonction <span style=\"font-family:Courier New;font-size: 100%;\">chiffrement&#95;xor(str&#95;message, str&#95;cle)</span>:<br>\n"
   ]
  },
  {
   "cell_type": "code",
   "execution_count": null,
   "id": "6a026198",
   "metadata": {},
   "outputs": [],
   "source": [
    "def chiffrement_xor(str_message, str_cle):\n",
    "    \"\"\"renvoie la chaine de caractère obtenue en appliquant le chiffrement XOR\"\"\"\n",
    "    pass\n",
    "\n",
    "assert chiffrement_xor(\"VIVE LA NSI\", \"hmx\") == \">$.-M4)M6;$\", \"erreur codage VIVE LA NSI\"\n",
    "assert chiffrement_xor(\">$.-M4)M6;$\", \"hmx\") == \"VIVE LA NSI\", \"deux xor consecutifs doivent redonner message depart\""
   ]
  },
  {
   "cell_type": "code",
   "execution_count": null,
   "id": "cc09c753",
   "metadata": {},
   "outputs": [],
   "source": [
    "solution.chiffrement_xor()"
   ]
  },
  {
   "cell_type": "markdown",
   "id": "26bc1f63",
   "metadata": {},
   "source": [
    "#### <span style=\"text-decoration: underline;color:blue;\">c. Décrypter un message par force brute...</span> ####\n",
    "Considérons les listes suivantes :<br>\n"
   ]
  },
  {
   "cell_type": "code",
   "execution_count": null,
   "id": "aae45226",
   "metadata": {},
   "outputs": [],
   "source": [
    "majuscules = [chr(65 + k) for k in range(26)]\n",
    "minuscules = [chr(97 + k) for k in range(26)]"
   ]
  },
  {
   "cell_type": "markdown",
   "id": "77a6f4a0",
   "metadata": {},
   "source": [
    "Essayons de décrypter un message en <strong>imposant les limites suivantes</strong> : \n",
    "- le <span style=\"font-family:Courier New;font-size: 100%;\">message</span> à <strong>décrypter</strong> ne contient <strong>que les lettres majuscules ou minuscules</strong>, eventuellement des <strong>espaces</strong> (dont l'unicode vaut <span style=\"font-family:Courier New;font-size: 100%;\">32</span>)\n",
    "\n",
    "- la clé ne contient <strong>que les lettres majuscules</strong>, au nombre maximum de 4!\n",
    "\n",
    "\n",
    "Si on sait que la clé est composée  de $n$ caractères <strong>majuscules au maximum</strong>, combien de clés, en fonction de $n$ va-t-on tester?<br>\n",
    "![al text](mes_images/crayon_papier.png)<br>\n"
   ]
  },
  {
   "cell_type": "code",
   "execution_count": null,
   "id": "bbb538b0",
   "metadata": {},
   "outputs": [],
   "source": [
    "solution.nb_cles()"
   ]
  },
  {
   "cell_type": "markdown",
   "id": "1e9f852f",
   "metadata": {},
   "source": [
    "● On obtient ainsi $456~976$ clés de taille <strong>inférieure ou égale à 4</strong>!<br>\n",
    "<br>\n",
    "Construire la fonction <span style=\"font-family:Courier New;font-size: 100%;\">cle&#95;taille(n)</span> qui renvoie la liste des clés possibles composées de <strong>exactement</strong> $n$ majuscules.<br>\n"
   ]
  },
  {
   "cell_type": "code",
   "execution_count": null,
   "id": "7c87a4c0",
   "metadata": {},
   "outputs": [],
   "source": [
    "def cle_taille(n):\n",
    "    \"\"\"renvoie la liste des clés possibles de taille n majuscules\"\"\"\n",
    "    pass\n",
    "\n",
    "assert len(cles_taille(1)) == 26, \"erreur nombre de clés de taille 1\"\n",
    "assert len(cles_taille(2)) == 676 , \"erreur nombre de clés de taille 2\"\n",
    "assert len(cles_taille(3)) == 17576 , \"erreur nombre de clés de taille 3\"\n",
    "assert len(cles_taille(4)) == 456976  , \"erreur nombre de clés de taille 4\""
   ]
  },
  {
   "cell_type": "code",
   "execution_count": null,
   "id": "b748e037",
   "metadata": {},
   "outputs": [],
   "source": [
    "solution.cle_taille()"
   ]
  },
  {
   "cell_type": "markdown",
   "id": "ed0b3aed",
   "metadata": {},
   "source": [
    "● Le message <span style=\"background-color:yellow;font-weight:bold;\">\\\\$\\%#?g&)s++!1#+l0&&/&+</span> a été chiffré avec une clé de taille <strong>inférieure ou égale à 4</strong>, ne contenant <strong>que des majucules</strong>.<br>\n",
    "A vous de le <strong>décrypter</strong> <span style=\"text-decoration: underline;\">en retrouvant la clé utilisée</span>...<br>\n",
    "<br>\n",
    "<span style=\"text-decoration: underline;font-style: italic;\">Remarque :</span><br>\n",
    "N'hésitez pas à utiliser le module <span style=\"font-family:Courier New;font-size: 100%;\">tqdm</span> lorsque vous bouclez sur les <strong>tailles de clés possibles</strong>.<br>\n",
    "Il permet de <strong>visualiser l'avancement d'une boucle</strong> :<br>\n"
   ]
  },
  {
   "cell_type": "code",
   "execution_count": null,
   "id": "a886d029",
   "metadata": {},
   "outputs": [],
   "source": [
    "from tqdm import tqdm\n",
    "for k in tqdm(range(10**6)):\n",
    "    pass"
   ]
  },
  {
   "cell_type": "code",
   "execution_count": null,
   "id": "09dbffde",
   "metadata": {},
   "outputs": [],
   "source": [
    "message = '$%#?g&)s++!1#+l0&&/&+'\n",
    "\n",
    "def decrypter(str_message, taille_max = 4):\n",
    "    ''''renvoie une liste de possibilités et la clé associée pour décrypter str_message'''\n",
    "    pass"
   ]
  },
  {
   "cell_type": "code",
   "execution_count": null,
   "id": "8e90fe28",
   "metadata": {},
   "outputs": [],
   "source": [
    "solution.decrypter()"
   ]
  },
  {
   "cell_type": "markdown",
   "id": "fc15a679",
   "metadata": {},
   "source": [
    "### <span style=\"text-decoration: underline;color:green;\">3. Alternatives :</span> ###\n",
    "● Il existe d’autres algorithmes de chiffrement symétrique :<br>\n",
    "&nbsp;&nbsp;&nbsp;&nbsp;&nbsp;&nbsp;&nbsp;&nbsp;→ comme <a href=\"https://fr.wikipedia.org/wiki/Advanced_Encryption_Standard\">\"AES\" (Advanced Encryption Standard) </a><br>\n",
    "&nbsp;&nbsp;&nbsp;&nbsp;&nbsp;&nbsp;&nbsp;&nbsp;→ et <a href=\"https://en.wikipedia.org/wiki/ChaCha20-Poly1305\">\"ChaCha20\"</a>.<br>\n",
    "<br>\n",
    "● Ils sont plus complexes mais basés sur des chiffrements similaires au chiffrement <span style=\"font-family:Courier New;font-size: 100%;\">XOR</span> :<br>\n",
    "&nbsp;&nbsp;&nbsp;&nbsp;&nbsp;&nbsp;&nbsp;&nbsp;→ une <span style=\"font-family:Courier New;font-size: 100%;\">clé</span> initiale est étendue, mais moins naïvement qu’en la répétant.<br>\n",
    "&nbsp;&nbsp;&nbsp;&nbsp;&nbsp;&nbsp;&nbsp;&nbsp;→ la <span style=\"font-family:Courier New;font-size: 100%;\">clé</span> et le <span style=\"font-family:Courier New;font-size: 100%;\">message</span> sont mélangés, de façon <strong>réversible</strong>.<br>\n",
    "<br>\n",
    "● Ces algorithmes, en plus d’être sûrs (c’est-à-dire  difficilement décryptables) sont particulièrement efficaces grâce à l’usage des opérations directement implémentées dans les <i>UAL</i> des processeurs et permettent de chiffrer des longs messages en temps réel.<br>\n",
    "<br>\n",
    "<span style=\"text-decoration: underline;font-style: italic;\">Rappel de l'architecture Von Neumann:</span><br>\n",
    "![alt text](mes_images/architecture.png)<br>\n"
   ]
  },
  {
   "cell_type": "markdown",
   "id": "a74b6596",
   "metadata": {},
   "source": [
    "## <span style=\"text-decoration: underline;color:red;\">III. Inconvénients du chiffrement symétrique :</span> ##\n",
    "<br>\n",
    "<br><span style=\"border: 2px solid;padding:6px;\">La principale <strong>vulnérabilité</strong> des chiffrements <strong>symétriques</strong> provient des <strong>problèmes de sécurité</strong> lors de la <strong>transmission</strong> de la clé de chiffrement.</span><br>\n",
    "<br><br>\n",
    "● En <span style=\"font-weight: bold;font-style: italic;\">1974</span>, <i>Ralph Merkle</i> imagine une solution appelée  \"puzzles de <i>Merkle</i>\"<br>\n"
   ]
  },
  {
   "cell_type": "markdown",
   "id": "cad374f2",
   "metadata": {},
   "source": [
    "![alt text](mes_images/puzzle.jpg)<br>\n",
    "● L'idée est de mettre d’accord sur une clé secrète,  <strong>de manière sécurisée</strong> lors d’un échange de message entre une personne $A$ et une personne $B$. <br>\n",
    "&nbsp;<br>\n",
    "<span style=\"text-decoration: underline;font-weight: bold;font-style: italic;\">Etape 1 :</span><br>\n",
    "<br>\n",
    "● La personne $A$ génère un très grand nombre  de messages (par exemple$ 100 000$) de la forme :<br>\n",
    "&nbsp;&nbsp;&nbsp;&nbsp;&nbsp;&nbsp;&nbsp;&nbsp;<span style=\"font-family:Courier New;font-size: 100%;\">identifiant : i,  clé : k</span> avec <span style=\"font-family:Courier New;font-size: 100%;\">i</span> et <span style=\"font-family:Courier New;font-size: 100%;\">k</span> générés <strong>aléatoirement</strong>.<br>\n",
    "<br>\n",
    "● Elle a donc généré un fichier texte de $100 000$ lignes comme celles-ci :<br>\n",
    "&nbsp;&nbsp;&nbsp;&nbsp;&nbsp;&nbsp;&nbsp;&nbsp;...<br>\n",
    "&nbsp;&nbsp;&nbsp;&nbsp;&nbsp;&nbsp;&nbsp;&nbsp;<span style=\"font-family:Courier New;font-size: 100%;\">identifiant : 3456245, clé :  aezrfa!tazc</span><br>\n",
    "&nbsp;&nbsp;&nbsp;&nbsp;&nbsp;&nbsp;&nbsp;&nbsp;<span style=\"font-family:Courier New;font-size: 100%;\">identifiant : 5672212, clé : tluié^@(§32</span><br>\n",
    "&nbsp;&nbsp;&nbsp;&nbsp;&nbsp;&nbsp;&nbsp;&nbsp;<span style=\"font-family:Courier New;font-size: 100%;\">identifiant : 4256134, clé : sbfoiyug@%t</span><br>\n",
    "&nbsp;&nbsp;&nbsp;&nbsp;&nbsp;&nbsp;&nbsp;&nbsp;...<br>\n",
    "&nbsp;<br>\n",
    "<span style=\"text-decoration: underline;font-weight: bold;font-style: italic;\">Etape 2 :</span><br>\n",
    "<br>\n",
    "● La personne $A$ :<br>\n",
    "&nbsp;&nbsp;&nbsp;&nbsp;&nbsp;&nbsp;&nbsp;&nbsp;→ chiffre <strong>chaque ligne</strong> avec un algorithme de chiffrement symétrique (comme le <span style=\"font-family:Courier New;font-size: 100%;\">XOR</span>) <br>\n",
    "&nbsp;&nbsp;&nbsp;&nbsp;&nbsp;&nbsp;&nbsp;&nbsp;→ et une clé de <strong>faible longueur</strong> mais <strong>différente pour chaque ligne</strong>.<br>\n",
    "<br>\n",
    "&nbsp;&nbsp;L’objectif étant que <strong>chaque ligne</strong> puisse être décryptée avec une attaque par <strong>force brute</strong> mais <strong>pas l’ensemble des 100 000 lignes</strong>... <br>\n",
    "&nbsp;&nbsp;La personne $A$ envoie l’ensemble des lignes chiffrées (cet envoi peut donc être intercepté)<br>\n",
    "&nbsp;&nbsp;&nbsp;&nbsp;&nbsp;&nbsp;&nbsp;&nbsp;<br>\n",
    "<span style=\"text-decoration: underline;font-weight: bold;font-style: italic;\">Etape 3 :</span><br>\n",
    "<br>\n",
    "● La personne $B$ reçoit le fichier,  choisit une ligne,  et la <strong>décrypte par force brute</strong>. Il obtient donc un message du style :<br>\n",
    "&nbsp;&nbsp;&nbsp;&nbsp;&nbsp;&nbsp;&nbsp;&nbsp;<span style=\"font-family:Courier New;font-size: 100%;\">identifiant : 5672212, clé : tluié^@(§32</span><br>\n",
    "<br>\n",
    "● Il renvoie à la personne $A$ l’identifiant <span style=\"font-family:Courier New;font-size: 100%;\">5672212</span> (envoi qui peut à nouveau être intercepté).<br>\n",
    "&nbsp;<br>\n",
    "● La personne $A$ regarde dans son fichier la clé correspondante et  les deux personnes se sont ainsi mises d’accord de façon sécurisée sur la clé :<br>\n",
    "&nbsp;&nbsp;&nbsp;&nbsp;&nbsp;&nbsp;&nbsp;<span style=\"font-family:Courier New;font-size: 100%;\">tluié^@(§32</span>.<br>\n",
    "&nbsp;&nbsp;&nbsp;L’astuce réside ici sur le fait que décrypter <strong>une ligne est faisable</strong> pour la personne $B$,  mais qu’il n’est <strong>pas possible de décrypter l’ensemble</strong>. <br>\n",
    "&nbsp;&nbsp;&nbsp;Même en interceptant l’identifiant choisi par la personne $B$,  il n'a pas accès à la clé associé sans décrypter tout le fichier.<br>\n",
    "<br>\n",
    "● Cette technique, efficace lorsqu’elle a été proposée, ne l’est plus de nos jours étant donnée la puissance de calcul disponible. <br>\n",
    "&nbsp;&nbsp;&nbsp;Cependant elle a permis d’inspirer une autre méthode : <br>\n",
    "&nbsp;&nbsp;&nbsp;le protocole d’échange de clés de <i>Diffie-Hellman</i>, basé sur un échange avec un chiffrement <strong>asymétrique</strong> que nous étudierons dans le notebook qui suit.<br>\n",
    "&nbsp;&nbsp;&nbsp;&nbsp;<br>\n"
   ]
  }
 ],
 "metadata": {},
 "nbformat": 4,
 "nbformat_minor": 5
}
