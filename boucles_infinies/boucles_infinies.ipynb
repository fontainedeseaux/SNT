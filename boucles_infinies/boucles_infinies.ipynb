{
 "cells": [
  {
   "cell_type": "code",
   "execution_count": null,
   "metadata": {},
   "outputs": [],
   "source": [
    "from outils import* # Lancer la cellule pour importer les outils nécessaires au notebook."
   ]
  },
  {
   "cell_type": "markdown",
   "metadata": {},
   "source": [
    "# <div style=\"text-align:center;\"><span style=\"border: 2px solid;padding:6px;color:dodgerblue;\">BOUCLES INFINIES</span></div> #\n",
    "\n",
    "### <u style=\"color:green;\">1. Présentation :</u> ###\n",
    "● Lorsque vous avez travaillé avec *Scratch*, vous disposiez d'un bloc *Répéter indéfiniment* :<br>\n",
    "![alt text](mes_images/repeter.png)<br>\n",
    "Les instructions contenues <strong>dans le bloc</strong>, et <strong>seulement celles-ci</strong> se répètent indéfiniment.<br>\n",
    "<br>\n",
    "● Python propose une instruction équivalente :<br>\n"
   ]
  },
  {
   "cell_type": "code",
   "execution_count": null,
   "metadata": {},
   "outputs": [],
   "source": [
    "while True:# début de la boucle répéter indéfiniment\n",
    "    print(\"Impossible de sortir d'ici...\")"
   ]
  },
  {
   "cell_type": "markdown",
   "metadata": {},
   "source": [
    "● Ici, l'instruction <span style=\"font-family:Courier New;font-size: 100%;\">print(\"Impossible de sortir d'ici...\")</span> se répète indéfiniment.<br>\n",
    "On effectue donc une infinité de <u>tours de boucles</u>.<br>\n",
    "<br>\n",
    "● Il est courant d'avoir à utiliser une boucle *Répéter indéfiniment*, <strong>avec une condition de sortie</strong>.<br>\n",
    "Sinon, la boucle ne s'interrompt jamais...<br>\n",
    "<br>\n",
    "● Par exemple, si un site est réservé à un public <u>majeur</u>, on demande son age à l'internaute.<br>\n",
    "&nbsp;&nbsp;&nbsp;&nbsp;→ Tant qu'il rentre un age inférieur à <span style=\"font-family:Courier New;font-size: 100%;\">18</span>, la boucle se poursuit.<br>\n",
    "&nbsp;&nbsp;&nbsp;&nbsp;→ Dès qu'il rentre un age supérieur ou égal à <span style=\"font-family:Courier New;font-size: 100%;\">18</span>, on <strong>casse la boucle</strong> <span style=\"font-family:Courier New;font-size: 100%;\">while</span> et l'accès est autorisé.<br>\n",
    "<br>\n",
    "● Voici la syntaxe permettant de <strong>casser</strong> (<span style=\"font-family:Courier New;font-size: 100%;\">break</span>) une boucle infine en cas de succès :<br>\n"
   ]
  },
  {
   "cell_type": "code",
   "execution_count": null,
   "metadata": {},
   "outputs": [],
   "source": [
    "while True: # début de la boucle répéter indéfiniment\n",
    "    age = input(\"Entrez votre age :\")\n",
    "    age = float(age) # conversion en décimal\n",
    "    if age >= 18: # un test permet de casser la boucle\n",
    "        break # on casse la boucle\n",
    "print(\"Accès autorisé\") # si on arrive ici, c'est que la boucle a été cassée."
   ]
  },
  {
   "cell_type": "markdown",
   "metadata": {},
   "source": [
    "### <u style=\"color:green;\">2. Exercices :</u> ###\n",
    "<u style=\"color:blue;\"><strong>Exercice 1:</strong></u><br>\n",
    "a) Ecrire un programme qui demande le <strong>l'année de la révolution française</strong>.<br>\n",
    "&nbsp;&nbsp;&nbsp;&nbsp;→ et qui pose cette question <u>tant que la réponse est fausse</u>.<br>\n",
    "&nbsp;&nbsp;&nbsp;&nbsp;→ puis affiche un message de félicitations si la réponse est bonne<br>\n"
   ]
  },
  {
   "cell_type": "code",
   "execution_count": null,
   "metadata": {},
   "outputs": [],
   "source": [
    "# à compléter"
   ]
  },
  {
   "cell_type": "code",
   "execution_count": null,
   "metadata": {},
   "outputs": [],
   "source": [
    "solution.revolution()"
   ]
  },
  {
   "cell_type": "markdown",
   "metadata": {},
   "source": [
    "b) Créer une variable <span style=\"font-family:Courier New;font-size: 100%;\">nb_essais</span> égale à <span style=\"font-family:Courier New;font-size: 100%;\">0</span> avant la boucle <span style=\"font-family:Courier New;font-size: 100%;\">while</span>.<br>\n",
    "Puis améliorer votre programme pour indiquer le nombre d'essais qui ont été nécessaires pour donner la bonne réponse.<br>\n"
   ]
  },
  {
   "cell_type": "code",
   "execution_count": null,
   "metadata": {},
   "outputs": [],
   "source": [
    "# à compléter"
   ]
  },
  {
   "cell_type": "code",
   "execution_count": null,
   "metadata": {},
   "outputs": [],
   "source": [
    "solution.amelioration()"
   ]
  },
  {
   "cell_type": "markdown",
   "metadata": {},
   "source": [
    "<u style=\"color:blue;\"><strong>Exercice 2:</strong></u><br>\n",
    "On considère la boucle suivante :<br>\n",
    "<span style=\"font-family:Courier New;font-size: 100%;\">i = 1</span><br>\n",
    "<span style=\"font-family:Courier New;font-size: 100%;\">while True:</span><br>\n",
    "&nbsp;&nbsp;&nbsp;&nbsp;&nbsp;&nbsp;&nbsp;&nbsp;<span style=\"font-family:Courier New;font-size: 100%;\">i = i + 2</span><br>\n",
    "&nbsp;&nbsp;&nbsp;&nbsp;&nbsp;&nbsp;&nbsp;&nbsp;<span style=\"font-family:Courier New;font-size: 100%;\">if i > 10:</span><br>\n",
    "&nbsp;&nbsp;&nbsp;&nbsp;&nbsp;&nbsp;&nbsp;&nbsp;&nbsp;&nbsp;&nbsp;&nbsp;&nbsp;&nbsp;&nbsp;&nbsp;<span style=\"font-family:Courier New;font-size: 100%;\">break</span><br>\n",
    "<span style=\"font-family:Courier New;font-size: 100%;\">print(\"En sortie de boucle, i vaut\", i)</span><br>\n"
   ]
  },
  {
   "cell_type": "code",
   "execution_count": null,
   "metadata": {},
   "outputs": [],
   "source": [
    "question.valeur()"
   ]
  },
  {
   "cell_type": "code",
   "execution_count": null,
   "metadata": {},
   "outputs": [],
   "source": [
    "question.nb_tours()"
   ]
  },
  {
   "cell_type": "markdown",
   "metadata": {},
   "source": [
    "<u style=\"color:blue;\"><strong>Exercice 3:</strong></u><br>\n",
    "Le prix d'un téléphone est de <span style=\"font-family:Courier New;font-size: 100%;\">prix = 537</span> €.<br>\n",
    "On part avec une somme <span style=\"font-family:Courier New;font-size: 100%;\">argent</span> qui vaut <span style=\"font-family:Courier New;font-size: 100%;\">0</span> € avant d'entrer dans la boucle infinie.<br>\n",
    "<strong>Dans le bloc</strong> de la boucle infinie, à vous de :<br>\n",
    "&nbsp;&nbsp;&nbsp;&nbsp;→ rajouter <span style=\"font-family:Courier New;font-size: 100%;\">10</span> € à la variable <span style=\"font-family:Courier New;font-size: 100%;\">argent</span> à chaque tour<br>\n",
    "&nbsp;&nbsp;&nbsp;&nbsp;→ afficher le message : <span style=\"font-family:Courier New;font-size: 100%;\">\"tu disposes de ... €\"</span><br>\n",
    "&nbsp;&nbsp;&nbsp;&nbsp;→ d'afficher le message :<br>\n",
    "&nbsp;&nbsp;&nbsp;&nbsp;&nbsp;&nbsp;&nbsp;&nbsp;&nbsp;&nbsp;&nbsp;&nbsp;&nbsp;&nbsp;&nbsp;&nbsp;<span style=\"font-family:Courier New;font-size: 100%;\">\"Tu n'as pas encore assez d'argent.\"</span><br>\n",
    "&nbsp;&nbsp;&nbsp;&nbsp;&nbsp;&nbsp;&nbsp;&nbsp;&nbsp;&nbsp;&nbsp;&nbsp;&nbsp;&nbsp;&nbsp;&nbsp;&nbsp;&nbsp;&nbsp;&nbsp;&nbsp;&nbsp;&nbsp;&nbsp;&nbsp;&nbsp;&nbsp;&nbsp;&nbsp;&nbsp;&nbsp;&nbsp;ou<br>\n",
    "&nbsp;&nbsp;&nbsp;&nbsp;&nbsp;&nbsp;&nbsp;&nbsp;&nbsp;&nbsp;&nbsp;&nbsp;&nbsp;&nbsp;&nbsp;&nbsp;<span style=\"font-family:Courier New;font-size: 100%;\">\"Tu as enfin assez d'argent!\"</span><br>\n",
    "<br>\n",
    "<strong>En sortie de boucle</strong>, vous afficherez <span style=\"font-family:Courier New;font-size: 100%;\">\"Il te reste ... €\"</span><br>\n"
   ]
  },
  {
   "cell_type": "code",
   "execution_count": null,
   "metadata": {},
   "outputs": [],
   "source": [
    "argent = 0\n",
    "prix = 537\n",
    "# à compléter"
   ]
  },
  {
   "cell_type": "code",
   "execution_count": null,
   "metadata": {},
   "outputs": [],
   "source": [
    "solution.telephone()"
   ]
  },
  {
   "cell_type": "markdown",
   "metadata": {},
   "source": [
    "### <u style=\"color:green;\">3. Quelques petits défis...</u> ###\n",
    "<u style=\"color:blue;\"><strong>Exercice 4:</strong></u><br>\n",
    "Les parents de *Jonas* ont l'intention de lui donner 1 euro le premier janvier 2022.<br>\n",
    "Puis 2 euros le 2 janvier, 3 euros le 3 janvier, et ainsi de suite jusqu'au 31 décembre 2022 inclus.<br>\n",
    "Combien aura-t-il le 31 décembre 2022?<br>\n"
   ]
  },
  {
   "cell_type": "code",
   "execution_count": null,
   "metadata": {},
   "outputs": [],
   "source": [
    "# à compléter"
   ]
  },
  {
   "cell_type": "code",
   "execution_count": null,
   "metadata": {},
   "outputs": [],
   "source": [
    "solution.argent()"
   ]
  },
  {
   "cell_type": "markdown",
   "metadata": {},
   "source": [
    "<u style=\"color:blue;\"><strong>Exercice 5:</strong></u><br>\n",
    "Une feuille de papier mesure <span style=\"font-family:Courier New;font-size: 100%;\">0.1</span> mm d'épaisseur.<br>\n",
    "Ecrire un programme permettant de connaître le nombre de pliages nécessaires pour <strong>dépasser strictement</strong> la tour Eiffel qui mesure 324 mètres.<br>\n"
   ]
  },
  {
   "cell_type": "code",
   "execution_count": null,
   "metadata": {},
   "outputs": [],
   "source": [
    "# à compléter"
   ]
  },
  {
   "cell_type": "code",
   "execution_count": null,
   "metadata": {},
   "outputs": [],
   "source": [
    "solution.pliages()"
   ]
  },
  {
   "cell_type": "markdown",
   "metadata": {},
   "source": [
    "<u style=\"color:blue;\"><strong>Exercice 6:</strong></u><br>\n",
    "Un jeune vient de trouver son premier emploi. <br>\n",
    "La voiture qu’il rêve de s’acheter coûte <span style=\"font-family:Courier New;font-size: 100%;\">13900</span> €. Le véhicule perd chaque mois 2% de sa valeur.<br>\n",
    "Chaque mois, il peut épargner 200 euros.<br>\n",
    "Ecrire un programme qui indique le nombre de mois à attendre avant qu'il puisse acheter sa voiture.<br>\n"
   ]
  },
  {
   "cell_type": "code",
   "execution_count": null,
   "metadata": {},
   "outputs": [],
   "source": [
    "# à compléter"
   ]
  },
  {
   "cell_type": "code",
   "execution_count": null,
   "metadata": {},
   "outputs": [],
   "source": [
    "solution.attendre()"
   ]
  }
 ],
 "metadata": {},
 "nbformat": 4,
 "nbformat_minor": 4
}
