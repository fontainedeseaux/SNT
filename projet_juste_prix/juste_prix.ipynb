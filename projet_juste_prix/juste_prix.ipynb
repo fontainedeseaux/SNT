{
 "cells": [
  {
   "cell_type": "markdown",
   "metadata": {},
   "source": [
    "# <div style=\"text-align:center;\"><span style=\"border: 2px solid;padding:6px;color:dodgerblue;\">MINI PROJET JUSTE PRIX</span></div> #\n",
    "\n",
    "On souhaite écrire un petit programme qui permette de jouer au juste prix.<br>\n",
    "![alt text](juste_prix.png \"le jeu du juste prix\")<br>\n",
    "Le principe est le suivant :<br>\n",
    "● un prix est choisi au hasard par l'ordinateur entre <span style=\"font-family:Courier New;font-size: 100%;\">1</span> et <span style=\"font-family:Courier New;font-size: 100%;\">100</span> euros.<br>\n",
    "Pour cela, il suffit d'écrire :<br>\n",
    "<br>\n",
    "<span style=\"font-family:Courier New;font-size: 100%;\">prix_a_deviner = randint(1, 100)</span> qui permet de générer un prix entier au hasard entre 1 et 100.<br>\n",
    "<br>\n",
    "● On crée ensuite une variable <span style=\"font-family:Courier New;font-size: 100%;\">nb_essais = 0</span><br>\n",
    "L'objectif du jeu est de trouver <span style=\"font-family:Courier New;font-size: 100%;\">prix_a_deviner</span> en un <strong>minimum d'essais</strong>.<br>\n",
    "A chaque proposition, le programme annonce :<br>\n",
    "&nbsp;&nbsp;&nbsp;&nbsp;&nbsp;&nbsp;&nbsp;&nbsp;→ soit <span style=\"font-family:Courier New;font-size: 100%;\">\"Bravo! Trouvé en ... essais\"</span><br>\n",
    "&nbsp;&nbsp;&nbsp;&nbsp;&nbsp;&nbsp;&nbsp;&nbsp;→ soit <span style=\"font-family:Courier New;font-size: 100%;\">\"Trop petit\"</span><br>\n",
    "&nbsp;&nbsp;&nbsp;&nbsp;&nbsp;&nbsp;&nbsp;&nbsp;→ soit <span style=\"font-family:Courier New;font-size: 100%;\">\"Trop grand\"</span><br>\n",
    "<br>\n",
    "● On créera donc une <strong>boucle infinie</strong><br>\n",
    "<br>\n",
    "● Dans cette boucle, votre programme devra :<br>\n",
    "&nbsp;&nbsp;&nbsp;&nbsp;&nbsp;&nbsp;&nbsp;&nbsp;→ poser une question afin que le joueur fasse une proposition de prix<br>\n",
    "&nbsp;&nbsp;&nbsp;&nbsp;&nbsp;&nbsp;&nbsp;&nbsp;→ puis lui afficher l'un des messages qui précède en fonction du prix qu'il aura proposé.<br>\n",
    "Si le joueur gagne, on pourra sortir de la boucle à l'aide du mot-clé <span style=\"font-family:Courier New;font-size: 100%;\">break</span>.<br>\n"
   ]
  },
  {
   "cell_type": "code",
   "execution_count": null,
   "metadata": {},
   "outputs": [],
   "source": [
    "from random import randint # import de la fonction randint du module random\n",
    "\n",
    "# le code du projet :\n",
    "prix_a_deviner = randint(1, 100)\n",
    "nb_essais = 0\n",
    "# à compléter"
   ]
  }
 ],
 "metadata": {},
 "nbformat": 4,
 "nbformat_minor": 4
}
