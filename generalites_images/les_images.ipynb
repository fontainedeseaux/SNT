{
 "cells": [
  {
   "cell_type": "code",
   "execution_count": 1,
   "metadata": {},
   "outputs": [],
   "source": [
    "from outils import* # Lancer la cellule pour importer les outils nécessaires au notebook."
   ]
  },
  {
   "cell_type": "markdown",
   "metadata": {},
   "source": [
    "# <div style=\"text-align:center;\"><span style=\"border: 2px solid;padding:6px;color:dodgerblue;\">LES IMAGES</span></div> #\n",
    "\n",
    "## <u style=\"color:red;\">I. Les pixels :</u> ##\n",
    "Une image est composée de petits points appelés <strong>pixels</strong>.<br>\n",
    "La <strong>définition</strong> d’une image correspond au <strong>nombre de pixels</strong> qui composent l’image.<br>\n",
    "Elle se ne note sous la forme : <span style=\"font-family:Courier New;font-size: 100%;\">nombre de pixels en largeur</span>$~\\times~$<span style=\"font-family:Courier New;font-size: 100%;\">nombre pixels en hauteur</span><br>\n",
    "L'image ci-dessous a une définition de <span style=\"font-family:Courier New;font-size: 100%;\">35</span>$~\\times~$<span style=\"font-family:Courier New;font-size: 100%;\">26 </span>:<br>\n",
    "![alt text](mes_images/mario.png \"Une image est composée de pixels\")<br>\n"
   ]
  },
  {
   "cell_type": "code",
   "execution_count": null,
   "metadata": {},
   "outputs": [],
   "source": [
    "qcm.definition()"
   ]
  },
  {
   "cell_type": "markdown",
   "metadata": {},
   "source": [
    "## <u style=\"color:red;\">II. Le système RGB :</u> ##\n",
    "### <u style=\"color:green;\">1. La synthèse additive :</u> ###\n",
    "En pratique, les pixels d'un écran sont minuscules :<br>\n",
    "![alt text](mes_images/pixel.png \"Une image est composée de pixels\")<br>\n",
    "Lorsqu'on les grossit :<br>\n",
    "![alt text](mes_images/pixel_rgb.png \"trois canaux par pixel\")<br>\n",
    "<br>\n",
    "on constate qu'ils sont composés de 3 parties (canaux) :\n",
    "- une partie <span style=\"color:red;\">rouge</span> (<span style=\"color:red;\"><strong>r</strong></span>ed)\n",
    "\n",
    "- un partie <span style=\"color:green;\">verte</span> (<span style=\"color:green;\"><strong>g</strong></span>reen)\n",
    "\n",
    "- et une partie <span style=\"color:blue;\">bleue</span> (<span style=\"color:blue;\"><strong>b</strong></span>lue)\n",
    "\n",
    "Il s'agit du système <strong>RGB</strong> en anglais (ou RVB) en français.<br>\n",
    "<br>\n",
    "Chacune de ces parties se comporte comme une <strong>lampe colorée</strong>, dont on peut faire <strong>varier l'intensité</strong> :\n",
    "- de <span style=\"font-family:Courier New;font-size: 100%;\">0</span>  (lampe éteinte)\n",
    "\n",
    "- à <span style=\"font-family:Courier New;font-size: 100%;\">255</span> (lampe allumée à l'intensité <strong>maximale</strong>).\n",
    "\n",
    "Grace à un phénomène physique appelé <strong>synthèse additive des couleurs</strong>, lorsque les rayons des lampes se superposent, de nouvelles couleurs apparaissent!<br>\n",
    "<br>\n",
    "Lancez la cellule <span style=\"font-family:Courier New;font-size: 100%;\">synthese_additive()</span> ci-dessous, et en jouant sur l'intensité de chaque canal, essayer d'obtenir :\n",
    "- du jaune\n",
    "\n",
    "- du noir\n",
    "\n",
    "- du blanc\n",
    "\n",
    "- du violet\n",
    "\n",
    "- du orange\n",
    "\n"
   ]
  },
  {
   "cell_type": "code",
   "execution_count": null,
   "metadata": {},
   "outputs": [],
   "source": [
    "question.canaux_egaux()"
   ]
  },
  {
   "cell_type": "markdown",
   "metadata": {},
   "source": [
    "### <u style=\"color:green;\">2. L'espace RGB :</u> ###\n",
    "On peut représenter les couleurs possibles dans <strong>l'espace RGB</strong>. C'est à dire un cube contenant 3 axes, gradués de <span style=\"font-family:Courier New;font-size: 100%;\">0</span> à <span style=\"font-family:Courier New;font-size: 100%;\">255</span> :\n",
    "- l'axe rouge (<strong>R</strong>), et l'axe vert (<strong>G</strong>) au niveau du sol\n",
    "\n",
    "- l'axe bleu (<strong>B</strong>) en hauteur\n",
    "\n",
    "![alt text](mes_images/espace_rgb.png \"l'espace RGB\")<br>\n",
    "En pratique, on obtient <span style=\"font-family:Courier New;font-size: 100%;\">256</span> petits cubes rouges sur l'axe <strong>R</strong> (de <span style=\"font-family:Courier New;font-size: 100%;\">O</span> à <span style=\"font-family:Courier New;font-size: 100%;\">255</span>), 256 petits cubes verts sur l'axe <strong>G</strong> et 256 cubes bleus sur l'axe <strong>B</strong>.<br>\n",
    "On a volontairement limité le nombre de cubes ici pour la visibilité :<br>\n",
    "![alt text](mes_images/cube_rgb.png \"nombre de couleurs possibles\")<br>\n",
    "<br><div style=\"text-align:center;\"><span style=\"border: 2px solid;padding:6px;\">Le nombre total de cubes correspond donc au nombre total de couleurs possibles à obtenir dans le système RGB</span></div><br>\n",
    "<br>"
   ]
  },
  {
   "cell_type": "code",
   "execution_count": null,
   "metadata": {},
   "outputs": [],
   "source": [
    "question.nombre_de_couleurs()"
   ]
  },
  {
   "cell_type": "code",
   "execution_count": null,
   "metadata": {},
   "outputs": [],
   "source": [
    "qcm.gris()"
   ]
  },
  {
   "cell_type": "markdown",
   "metadata": {},
   "source": [
    "### <u style=\"color:green;\">3. Diagramme de Venn:</u> ###\n",
    "Voici une autre représentation possible des couleurs obtenues par syntèse additive :<br>\n",
    "![alt text](mes_images/venn_rgb.png \"bilan synthèse additive\")<br>\n",
    "\n",
    "## <u style=\"color:red;\">III. Compléments :</u> ##\n",
    "### <u style=\"color:green;\">1. Résolution d'une image :</u> ###\n",
    "Considérons la photo suivante de Tim Berners Lee, l'inventeur du langage html, d'une définition de <span style=\"font-family:Courier New;font-size: 100%;\">600</span>$~\\times~$<span style=\"font-family:Courier New;font-size: 100%;\">388</span> :<br>\n",
    "![alt text](mes_images/tim_berners.png \"einstein\")<br>\n",
    "On souhaite l'imprimer au format traditionnel des photos à savoir <span style=\"font-family:Courier New;font-size: 100%;\">15 cm</span>$~\\times~$<span style=\"font-family:Courier New;font-size: 100%;\">10 cm</span>.<br>\n",
    "<strong>Comment savoir si l'impression sera de bonne qualité?</strong><br>\n",
    "<br>\n",
    "Ce problème fait appel à la notion de <strong>résolution</strong> d'une image.<br>\n",
    "<br><span style=\"border: 2px solid;padding:6px;\">La résolution d'une image est égale au nombre de pixels présents sur une largeur de <strong>1 pouce</strong> (<span style=\"font-family:Courier New;font-size: 100%;\">2,54</span> cm).</span><br>\n",
    "<br>![alt text](mes_images/resolution.png \"résolution d'une image\")<br>\n",
    "Pour la calculer :<br>\n",
    "→ La <strong>définition</strong> de l'image donne le nombre pixels présents en largeur<br>\n",
    "→ on divise le nombre de pixels présents en largeur par la largeur de l'image en cm.<br>\n",
    "→ on obtient alors le nombre de pixels sur <strong>1 cm</strong><br>\n",
    "→ on en déduit qu'il y en a <span style=\"font-family:Courier New;font-size: 100%;\">2.54</span> fois plus sur un pouce. (un peu plus de deux fois et demi).<br>\n",
    "<br>\n",
    "On exprime la résolution d'une image en <strong>ppp</strong> (<strong>p</strong>ixel <strong>p</strong>ar <strong>p</strong>ouce en français) ou en <strong>dpi</strong> (<strong>d</strong>ot <strong>p</strong>er <strong>i</strong>nch en anglais).<br>\n",
    "<br>\n",
    "On estime que la netteté d'une photo est optimale pour l'oeil humain lorsqu'on la résolution est d'au moins <strong>300 dpi</strong>.<br>\n"
   ]
  },
  {
   "cell_type": "code",
   "execution_count": null,
   "metadata": {},
   "outputs": [],
   "source": [
    "question.resolution()"
   ]
  },
  {
   "cell_type": "markdown",
   "metadata": {},
   "source": [
    "### <u style=\"color:green;\">2. Ecrans <span style=\"font-family:Courier New;font-size: 100%;\">HD 720p, Full HD, 4K, 8K</span> :</u> ###\n",
    "Sous ces termes obcsurs se cache simplement...la <strong>définition</strong> de l'écran! (<span style=\"font-family:Courier New;font-size: 100%;\">nombre de pixels en largeur</span> $~\\times~$ <span style=\"font-family:Courier New;font-size: 100%;\">nombre de pixels en hauteur</span>)<br>\n",
    "Ces formats diffèrent donc par le <strong>nombre total de pixels</strong> présents à l'écran.<br>\n",
    "Ainsi, un écran :\n",
    "- <span style=\"font-family:Courier New;font-size: 100%;\">HD 720p</span> a une définition de <span style=\"font-family:Courier New;font-size: 100%;\">1280</span>$~\\times~$<span style=\"font-family:Courier New;font-size: 100%;\">720</span>\n",
    "\n",
    "- <span style=\"font-family:Courier New;font-size: 100%;\">Full HD</span> a une définition de <span style=\"font-family:Courier New;font-size: 100%;\">1920</span>$~\\times~$<span style=\"font-family:Courier New;font-size: 100%;\">1080</span>\n",
    "\n",
    "- <span style=\"font-family:Courier New;font-size: 100%;\">Ultra HD</span> a une définition de <span style=\"font-family:Courier New;font-size: 100%;\">3840</span>$~\\times~$<span style=\"font-family:Courier New;font-size: 100%;\">2160</span>\n",
    "\n",
    "- <span style=\"font-family:Courier New;font-size: 100%;\">4K</span> a une définition de <span style=\"font-family:Courier New;font-size: 100%;\">4096</span>$~\\times~$<span style=\"font-family:Courier New;font-size: 100%;\">2160</span>\n",
    "\n",
    "- <span style=\"font-family:Courier New;font-size: 100%;\">8K</span> a une définition de <span style=\"font-family:Courier New;font-size: 100%;\">7680</span>$~\\times~$<span style=\"font-family:Courier New;font-size: 100%;\">4320</span>\n",
    "\n",
    "\n",
    "A l'aide de votre calculatrice, simplifiez la fraction $\\frac{largeur}{hauteur}$ pour chacun des 5 types d'écran.<br>\n",
    "<br>\n",
    "La valeur que vous obtenez s'apelle le <strong>ratio</strong> ou <strong>format</strong> de l'écran.<br>\n"
   ]
  },
  {
   "cell_type": "code",
   "execution_count": null,
   "metadata": {},
   "outputs": [],
   "source": [
    "question.ratio()"
   ]
  },
  {
   "cell_type": "markdown",
   "metadata": {},
   "source": [
    "## <u style=\"color:red;\">IV. Exercices :</u> ##\n",
    "<u style=\"color:blue;\">Exercice 1 :</u><br>\n",
    "Sur un dvd, les images comportent <span style=\"font-family:Courier New;font-size: 100%;\">414 720</span> au total pixels et ont une <span style=\"font-family:Courier New;font-size: 100%;\">largeur</span> de <span style=\"font-family:Courier New;font-size: 100%;\">720</span> pixels.<br>\n",
    "Quelle est leur <span style=\"font-family:Courier New;font-size: 100%;\">hauteur</span>?<br>\n"
   ]
  },
  {
   "cell_type": "code",
   "execution_count": null,
   "metadata": {},
   "outputs": [],
   "source": [
    "question.hauteur()"
   ]
  },
  {
   "cell_type": "markdown",
   "metadata": {},
   "source": [
    "<u style=\"color:blue;\">Exercice 2 :</u><br>\n",
    "Ecrire un programme qui demande la <span style=\"font-family:Courier New;font-size: 100%;\">largeur</span> et la <span style=\"font-family:Courier New;font-size: 100%;\">hauteur</span> d'un écran, et qui affiche la phrase :<br>\n",
    "<span style=\"font-family:Courier New;font-size: 100%;\">'L'écran est composé de ... pixels'</span><br>\n"
   ]
  },
  {
   "cell_type": "code",
   "execution_count": null,
   "metadata": {},
   "outputs": [],
   "source": [
    "# code exercice 2"
   ]
  },
  {
   "cell_type": "code",
   "execution_count": null,
   "metadata": {},
   "outputs": [],
   "source": [
    "solution.exercice_2()"
   ]
  },
  {
   "cell_type": "markdown",
   "metadata": {},
   "source": [
    "<u style=\"color:blue;\">Exercice 3 :</u><br>\n",
    "Ecrire un programme qui :\n",
    "- demande le nombre de pixels en <span style=\"font-family:Courier New;font-size: 100%;\">largeur</span> d'une photo.\n",
    "\n",
    "- calcule la résolution sur du papier photo <span style=\"font-family:Courier New;font-size: 100%;\">15 cm</span>$~\\times~$<span style=\"font-family:Courier New;font-size: 100%;\">10 cm</span>\n",
    "\n",
    "- et indique si l'impression de l'image  sera ou non de qualité\n",
    "\n",
    "<u>Amélioration possible:</u><br>\n",
    "Indiquer la taille maximale d'impression du papier photo en respectant le ratio <span style=\"font-family:Courier New;font-size: 100%;\">largeur = 1.5</span>$~\\times~$<span style=\"font-family:Courier New;font-size: 100%;\">hauteur</span>.<br>\n"
   ]
  },
  {
   "cell_type": "code",
   "execution_count": null,
   "metadata": {},
   "outputs": [],
   "source": [
    "# code exercice 3"
   ]
  },
  {
   "cell_type": "code",
   "execution_count": null,
   "metadata": {},
   "outputs": [],
   "source": [
    "solution.exercice_3()"
   ]
  },
  {
   "cell_type": "markdown",
   "metadata": {},
   "source": [
    "<u style=\"color:blue;\">Exercice 4 :</u><br>\n",
    "La taille d'un écran est donnée par celle de sa diagonale, <strong>en pouces</strong>.<br>\n",
    "On considèrera qu'il s'agit d'un écran au format <span style=\"font-family:Courier New;font-size: 100%;\">16/9</span>.<br>\n",
    "![alt text](mes_images/diagonale.png \"diagonale de l'écran au format 16/9\")<br>\n",
    "Ecrire un programme qui :\n",
    "- demande le <strong>nombre de pixels en largeur</strong> et la taille de sa diagonale\n",
    "\n",
    "- Puis calcule et affiche sa <strong>résolution</strong>\n",
    "\n"
   ]
  },
  {
   "cell_type": "code",
   "execution_count": null,
   "metadata": {},
   "outputs": [],
   "source": [
    "# code exercice 4"
   ]
  },
  {
   "cell_type": "code",
   "execution_count": null,
   "metadata": {},
   "outputs": [],
   "source": [
    "solution.resolution()"
   ]
  },
  {
   "cell_type": "markdown",
   "metadata": {},
   "source": [
    "<u style=\"color:blue;\">Exercice 5 :</u><br>\n",
    "Lorsqu'on installe un écran HD ou Full HD au format 16/9 dans son salon, voici la configuration conseillée pour visionner :<br>\n",
    "![alt text](mes_images/distance.png \"distance de visionnage\")<br>\n",
    "Ecrire un programme qui :\n",
    "- demande la diagonale de l'écran\n",
    "\n",
    "- puis affiche la distance optimale de visionnage\n",
    "\n"
   ]
  },
  {
   "cell_type": "code",
   "execution_count": null,
   "metadata": {},
   "outputs": [],
   "source": [
    "# code exercice 5"
   ]
  },
  {
   "cell_type": "code",
   "execution_count": null,
   "metadata": {},
   "outputs": [],
   "source": [
    "solution.exercice_5()"
   ]
  }
 ],
 "metadata": {
  "kernelspec": {
   "display_name": "Python 3",
   "language": "python",
   "name": "python3"
  },
  "language_info": {
   "codemirror_mode": {
    "name": "ipython",
    "version": 3
   },
   "file_extension": ".py",
   "mimetype": "text/x-python",
   "name": "python",
   "nbconvert_exporter": "python",
   "pygments_lexer": "ipython3",
   "version": "3.8.8"
  }
 },
 "nbformat": 4,
 "nbformat_minor": 4
}
